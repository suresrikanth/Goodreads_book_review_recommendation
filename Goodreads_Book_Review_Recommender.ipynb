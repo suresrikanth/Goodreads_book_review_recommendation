{
 "cells": [
  {
   "cell_type": "code",
   "execution_count": 1,
   "metadata": {},
   "outputs": [
    {
     "name": "stderr",
     "output_type": "stream",
     "text": [
      "C:\\ProgramData\\Anaconda3\\lib\\site-packages\\tqdm\\std.py:658: FutureWarning: The Panel class is removed from pandas. Accessing it from the top-level namespace will also be removed in the next version\n",
      "  from pandas import Panel\n"
     ]
    }
   ],
   "source": [
    "import pandas as pd\n",
    "import numpy as np\n",
    "import matplotlib.pyplot as plt\n",
    "import seaborn as sns\n",
    "from datetime import datetime\n",
    "from tqdm import tqdm\n",
    "tqdm.pandas()\n",
    "import pickle\n",
    "from sklearn.model_selection import train_test_split\n",
    "from sklearn.metrics import accuracy_score\n",
    "\n",
    "import warnings\n",
    "warnings.filterwarnings(\"ignore\")"
   ]
  },
  {
   "cell_type": "code",
   "execution_count": 2,
   "metadata": {
    "scrolled": true
   },
   "outputs": [
    {
     "data": {
      "text/html": [
       "<div>\n",
       "<style scoped>\n",
       "    .dataframe tbody tr th:only-of-type {\n",
       "        vertical-align: middle;\n",
       "    }\n",
       "\n",
       "    .dataframe tbody tr th {\n",
       "        vertical-align: top;\n",
       "    }\n",
       "\n",
       "    .dataframe thead th {\n",
       "        text-align: right;\n",
       "    }\n",
       "</style>\n",
       "<table border=\"1\" class=\"dataframe\">\n",
       "  <thead>\n",
       "    <tr style=\"text-align: right;\">\n",
       "      <th></th>\n",
       "      <th>user_id</th>\n",
       "      <th>book_id</th>\n",
       "      <th>review_id</th>\n",
       "      <th>rating</th>\n",
       "      <th>review_text</th>\n",
       "      <th>date_added</th>\n",
       "      <th>date_updated</th>\n",
       "      <th>read_at</th>\n",
       "      <th>started_at</th>\n",
       "      <th>n_votes</th>\n",
       "      <th>n_comments</th>\n",
       "    </tr>\n",
       "  </thead>\n",
       "  <tbody>\n",
       "    <tr>\n",
       "      <th>0</th>\n",
       "      <td>8842281e1d1347389f2ab93d60773d4d</td>\n",
       "      <td>18245960</td>\n",
       "      <td>dfdbb7b0eb5a7e4c26d59a937e2e5feb</td>\n",
       "      <td>5</td>\n",
       "      <td>This is a special book. It started slow for ab...</td>\n",
       "      <td>Sun Jul 30 07:44:10 -0700 2017</td>\n",
       "      <td>Wed Aug 30 00:00:26 -0700 2017</td>\n",
       "      <td>Sat Aug 26 12:05:52 -0700 2017</td>\n",
       "      <td>Tue Aug 15 13:23:18 -0700 2017</td>\n",
       "      <td>28</td>\n",
       "      <td>1</td>\n",
       "    </tr>\n",
       "    <tr>\n",
       "      <th>1</th>\n",
       "      <td>8842281e1d1347389f2ab93d60773d4d</td>\n",
       "      <td>16981</td>\n",
       "      <td>a5d2c3628987712d0e05c4f90798eb67</td>\n",
       "      <td>3</td>\n",
       "      <td>Recommended by Don Katz. Avail for free in Dec...</td>\n",
       "      <td>Mon Dec 05 10:46:44 -0800 2016</td>\n",
       "      <td>Wed Mar 22 11:37:04 -0700 2017</td>\n",
       "      <td>NaN</td>\n",
       "      <td>NaN</td>\n",
       "      <td>1</td>\n",
       "      <td>0</td>\n",
       "    </tr>\n",
       "    <tr>\n",
       "      <th>2</th>\n",
       "      <td>8842281e1d1347389f2ab93d60773d4d</td>\n",
       "      <td>28684704</td>\n",
       "      <td>2ede853b14dc4583f96cf5d120af636f</td>\n",
       "      <td>3</td>\n",
       "      <td>A fun, fast paced science fiction thriller. I ...</td>\n",
       "      <td>Tue Nov 15 11:29:22 -0800 2016</td>\n",
       "      <td>Mon Mar 20 23:40:27 -0700 2017</td>\n",
       "      <td>Sat Mar 18 23:22:42 -0700 2017</td>\n",
       "      <td>Fri Mar 17 23:45:40 -0700 2017</td>\n",
       "      <td>22</td>\n",
       "      <td>0</td>\n",
       "    </tr>\n",
       "    <tr>\n",
       "      <th>3</th>\n",
       "      <td>8842281e1d1347389f2ab93d60773d4d</td>\n",
       "      <td>27161156</td>\n",
       "      <td>ced5675e55cd9d38a524743f5c40996e</td>\n",
       "      <td>0</td>\n",
       "      <td>Recommended reading to understand what is goin...</td>\n",
       "      <td>Wed Nov 09 17:37:04 -0800 2016</td>\n",
       "      <td>Wed Nov 09 17:38:20 -0800 2016</td>\n",
       "      <td>NaN</td>\n",
       "      <td>NaN</td>\n",
       "      <td>5</td>\n",
       "      <td>1</td>\n",
       "    </tr>\n",
       "    <tr>\n",
       "      <th>4</th>\n",
       "      <td>8842281e1d1347389f2ab93d60773d4d</td>\n",
       "      <td>25884323</td>\n",
       "      <td>332732725863131279a8e345b63ac33e</td>\n",
       "      <td>4</td>\n",
       "      <td>I really enjoyed this book, and there is a lot...</td>\n",
       "      <td>Mon Apr 25 09:31:23 -0700 2016</td>\n",
       "      <td>Mon Apr 25 09:31:23 -0700 2016</td>\n",
       "      <td>Sun Jun 26 00:00:00 -0700 2016</td>\n",
       "      <td>Sat May 28 00:00:00 -0700 2016</td>\n",
       "      <td>9</td>\n",
       "      <td>1</td>\n",
       "    </tr>\n",
       "  </tbody>\n",
       "</table>\n",
       "</div>"
      ],
      "text/plain": [
       "                            user_id   book_id  \\\n",
       "0  8842281e1d1347389f2ab93d60773d4d  18245960   \n",
       "1  8842281e1d1347389f2ab93d60773d4d     16981   \n",
       "2  8842281e1d1347389f2ab93d60773d4d  28684704   \n",
       "3  8842281e1d1347389f2ab93d60773d4d  27161156   \n",
       "4  8842281e1d1347389f2ab93d60773d4d  25884323   \n",
       "\n",
       "                          review_id  rating  \\\n",
       "0  dfdbb7b0eb5a7e4c26d59a937e2e5feb       5   \n",
       "1  a5d2c3628987712d0e05c4f90798eb67       3   \n",
       "2  2ede853b14dc4583f96cf5d120af636f       3   \n",
       "3  ced5675e55cd9d38a524743f5c40996e       0   \n",
       "4  332732725863131279a8e345b63ac33e       4   \n",
       "\n",
       "                                         review_text  \\\n",
       "0  This is a special book. It started slow for ab...   \n",
       "1  Recommended by Don Katz. Avail for free in Dec...   \n",
       "2  A fun, fast paced science fiction thriller. I ...   \n",
       "3  Recommended reading to understand what is goin...   \n",
       "4  I really enjoyed this book, and there is a lot...   \n",
       "\n",
       "                       date_added                    date_updated  \\\n",
       "0  Sun Jul 30 07:44:10 -0700 2017  Wed Aug 30 00:00:26 -0700 2017   \n",
       "1  Mon Dec 05 10:46:44 -0800 2016  Wed Mar 22 11:37:04 -0700 2017   \n",
       "2  Tue Nov 15 11:29:22 -0800 2016  Mon Mar 20 23:40:27 -0700 2017   \n",
       "3  Wed Nov 09 17:37:04 -0800 2016  Wed Nov 09 17:38:20 -0800 2016   \n",
       "4  Mon Apr 25 09:31:23 -0700 2016  Mon Apr 25 09:31:23 -0700 2016   \n",
       "\n",
       "                          read_at                      started_at  n_votes  \\\n",
       "0  Sat Aug 26 12:05:52 -0700 2017  Tue Aug 15 13:23:18 -0700 2017       28   \n",
       "1                             NaN                             NaN        1   \n",
       "2  Sat Mar 18 23:22:42 -0700 2017  Fri Mar 17 23:45:40 -0700 2017       22   \n",
       "3                             NaN                             NaN        5   \n",
       "4  Sun Jun 26 00:00:00 -0700 2016  Sat May 28 00:00:00 -0700 2016        9   \n",
       "\n",
       "   n_comments  \n",
       "0           1  \n",
       "1           0  \n",
       "2           0  \n",
       "3           1  \n",
       "4           1  "
      ]
     },
     "execution_count": 2,
     "metadata": {},
     "output_type": "execute_result"
    }
   ],
   "source": [
    "#Importing and analyzing the datasets\n",
    "goodreads_train = pd.read_csv(r\"C:\\Users\\Dell\\Desktop\\caryon\\goodreads_train.csv\") \n",
    "goodreads_train.head()"
   ]
  },
  {
   "cell_type": "code",
   "execution_count": 3,
   "metadata": {
    "scrolled": true
   },
   "outputs": [
    {
     "data": {
      "text/plain": [
       "(900000, 11)"
      ]
     },
     "execution_count": 3,
     "metadata": {},
     "output_type": "execute_result"
    }
   ],
   "source": [
    "goodreads_train.shape"
   ]
  },
  {
   "cell_type": "code",
   "execution_count": 4,
   "metadata": {},
   "outputs": [
    {
     "data": {
      "text/plain": [
       "user_id         object\n",
       "book_id          int64\n",
       "review_id       object\n",
       "rating           int64\n",
       "review_text     object\n",
       "date_added      object\n",
       "date_updated    object\n",
       "read_at         object\n",
       "started_at      object\n",
       "n_votes          int64\n",
       "n_comments       int64\n",
       "dtype: object"
      ]
     },
     "execution_count": 4,
     "metadata": {},
     "output_type": "execute_result"
    }
   ],
   "source": [
    "goodreads_train.dtypes"
   ]
  },
  {
   "cell_type": "code",
   "execution_count": 5,
   "metadata": {},
   "outputs": [
    {
     "name": "stdout",
     "output_type": "stream",
     "text": [
      "<class 'pandas.core.frame.DataFrame'>\n",
      "RangeIndex: 900000 entries, 0 to 899999\n",
      "Data columns (total 11 columns):\n",
      " #   Column        Non-Null Count   Dtype \n",
      "---  ------        --------------   ----- \n",
      " 0   user_id       900000 non-null  object\n",
      " 1   book_id       900000 non-null  int64 \n",
      " 2   review_id     900000 non-null  object\n",
      " 3   rating        900000 non-null  int64 \n",
      " 4   review_text   900000 non-null  object\n",
      " 5   date_added    900000 non-null  object\n",
      " 6   date_updated  900000 non-null  object\n",
      " 7   read_at       808234 non-null  object\n",
      " 8   started_at    625703 non-null  object\n",
      " 9   n_votes       900000 non-null  int64 \n",
      " 10  n_comments    900000 non-null  int64 \n",
      "dtypes: int64(4), object(7)\n",
      "memory usage: 75.5+ MB\n"
     ]
    }
   ],
   "source": [
    "goodreads_train.info()"
   ]
  },
  {
   "cell_type": "code",
   "execution_count": 6,
   "metadata": {},
   "outputs": [
    {
     "name": "stdout",
     "output_type": "stream",
     "text": [
      "(810000, 11) (90000, 11)\n"
     ]
    }
   ],
   "source": [
    "goodread_train, goodread_test = train_test_split(goodreads_train, test_size=0.10)\n",
    "print(goodread_train.shape, goodread_test.shape)"
   ]
  },
  {
   "cell_type": "code",
   "execution_count": 7,
   "metadata": {},
   "outputs": [
    {
     "data": {
      "text/plain": [
       "user_id              0\n",
       "book_id              0\n",
       "review_id            0\n",
       "rating               0\n",
       "review_text          0\n",
       "date_added           0\n",
       "date_updated         0\n",
       "read_at          82589\n",
       "started_at      246931\n",
       "n_votes              0\n",
       "n_comments           0\n",
       "dtype: int64"
      ]
     },
     "execution_count": 7,
     "metadata": {},
     "output_type": "execute_result"
    }
   ],
   "source": [
    "goodread_train.isnull().sum()"
   ]
  },
  {
   "cell_type": "code",
   "execution_count": 8,
   "metadata": {},
   "outputs": [
    {
     "data": {
      "text/plain": [
       "user_id         object\n",
       "book_id          int64\n",
       "review_id       object\n",
       "rating           int64\n",
       "review_text     object\n",
       "date_added      object\n",
       "date_updated    object\n",
       "read_at         object\n",
       "started_at      object\n",
       "n_votes          int64\n",
       "n_comments       int64\n",
       "dtype: object"
      ]
     },
     "execution_count": 8,
     "metadata": {},
     "output_type": "execute_result"
    }
   ],
   "source": [
    "goodread_train.dtypes"
   ]
  },
  {
   "cell_type": "code",
   "execution_count": 9,
   "metadata": {},
   "outputs": [],
   "source": [
    "goodread_train.set_index(\"review_id\", inplace=True)\n",
    "goodread_test.set_index(\"review_id\", inplace=True)"
   ]
  },
  {
   "cell_type": "code",
   "execution_count": 10,
   "metadata": {},
   "outputs": [
    {
     "data": {
      "text/plain": [
       "((810000, 9), (810000,))"
      ]
     },
     "execution_count": 10,
     "metadata": {},
     "output_type": "execute_result"
    }
   ],
   "source": [
    "books = goodread_train.drop('rating', axis=1)\n",
    "books_rates = goodread_train['rating']\n",
    "\n",
    "books.shape,books_rates.shape"
   ]
  },
  {
   "cell_type": "code",
   "execution_count": 11,
   "metadata": {},
   "outputs": [
    {
     "data": {
      "text/plain": [
       "(810000, 6)"
      ]
     },
     "execution_count": 11,
     "metadata": {},
     "output_type": "execute_result"
    }
   ],
   "source": [
    "# Droping some non-essential columns\n",
    "books.drop(columns=['date_updated', 'read_at', 'started_at'], axis=1, inplace=True)\n",
    "books.shape"
   ]
  },
  {
   "cell_type": "code",
   "execution_count": 12,
   "metadata": {},
   "outputs": [
    {
     "data": {
      "text/plain": [
       "(809955, 6)"
      ]
     },
     "execution_count": 12,
     "metadata": {},
     "output_type": "execute_result"
    }
   ],
   "source": [
    "# Removing rows with negative n_votes or negative n_comments \n",
    "books = books[(books['n_votes'] >= 0) & (books['n_comments'] >= 0)]\n",
    "books.shape"
   ]
  },
  {
   "cell_type": "code",
   "execution_count": 13,
   "metadata": {},
   "outputs": [
    {
     "data": {
      "text/plain": [
       "0"
      ]
     },
     "execution_count": 13,
     "metadata": {},
     "output_type": "execute_result"
    }
   ],
   "source": [
    "# Checking duplications\n",
    "books.duplicated().sum()"
   ]
  },
  {
   "cell_type": "code",
   "execution_count": 14,
   "metadata": {},
   "outputs": [
    {
     "data": {
      "text/plain": [
       "8568"
      ]
     },
     "execution_count": 14,
     "metadata": {},
     "output_type": "execute_result"
    }
   ],
   "source": [
    "sum(books.duplicated(subset=['review_text']))"
   ]
  },
  {
   "cell_type": "code",
   "execution_count": 15,
   "metadata": {},
   "outputs": [],
   "source": [
    "books.drop_duplicates(subset=['review_text'], inplace=True)"
   ]
  },
  {
   "cell_type": "code",
   "execution_count": 16,
   "metadata": {},
   "outputs": [
    {
     "data": {
      "text/plain": [
       "(801387, 6)"
      ]
     },
     "execution_count": 16,
     "metadata": {},
     "output_type": "execute_result"
    }
   ],
   "source": [
    "books.shape"
   ]
  },
  {
   "cell_type": "code",
   "execution_count": 17,
   "metadata": {},
   "outputs": [],
   "source": [
    "# Finding unappropriate texts\n",
    "unapp_text=np.where(books['review_text'].apply(lambda txt: np.mean(list(map(len, txt.split())))) > 25)"
   ]
  },
  {
   "cell_type": "code",
   "execution_count": 18,
   "metadata": {},
   "outputs": [
    {
     "data": {
      "text/plain": [
       "(16, 6)"
      ]
     },
     "execution_count": 18,
     "metadata": {},
     "output_type": "execute_result"
    }
   ],
   "source": [
    "book=books.iloc[unapp_text]\n",
    "book.shape"
   ]
  },
  {
   "cell_type": "code",
   "execution_count": 19,
   "metadata": {},
   "outputs": [],
   "source": [
    "books.drop(book.index, axis=0, inplace=True)"
   ]
  },
  {
   "cell_type": "code",
   "execution_count": 20,
   "metadata": {},
   "outputs": [
    {
     "data": {
      "text/plain": [
       "(801371, 6)"
      ]
     },
     "execution_count": 20,
     "metadata": {},
     "output_type": "execute_result"
    }
   ],
   "source": [
    "books.shape"
   ]
  },
  {
   "cell_type": "code",
   "execution_count": 21,
   "metadata": {},
   "outputs": [],
   "source": [
    "spoil_statement = 'spoiler alert'\n",
    "books['spoil']=[True if spoil_statement in txt else False for txt in books['review_text'] ]"
   ]
  },
  {
   "cell_type": "code",
   "execution_count": 22,
   "metadata": {},
   "outputs": [
    {
     "data": {
      "text/html": [
       "<div>\n",
       "<style scoped>\n",
       "    .dataframe tbody tr th:only-of-type {\n",
       "        vertical-align: middle;\n",
       "    }\n",
       "\n",
       "    .dataframe tbody tr th {\n",
       "        vertical-align: top;\n",
       "    }\n",
       "\n",
       "    .dataframe thead th {\n",
       "        text-align: right;\n",
       "    }\n",
       "</style>\n",
       "<table border=\"1\" class=\"dataframe\">\n",
       "  <thead>\n",
       "    <tr style=\"text-align: right;\">\n",
       "      <th></th>\n",
       "      <th>user_id</th>\n",
       "      <th>book_id</th>\n",
       "      <th>review_text</th>\n",
       "      <th>date_added</th>\n",
       "      <th>n_votes</th>\n",
       "      <th>n_comments</th>\n",
       "      <th>spoil</th>\n",
       "    </tr>\n",
       "    <tr>\n",
       "      <th>review_id</th>\n",
       "      <th></th>\n",
       "      <th></th>\n",
       "      <th></th>\n",
       "      <th></th>\n",
       "      <th></th>\n",
       "      <th></th>\n",
       "      <th></th>\n",
       "    </tr>\n",
       "  </thead>\n",
       "  <tbody>\n",
       "    <tr>\n",
       "      <th>edaeec606a0a807a4870baf048bf1f80</th>\n",
       "      <td>b56661124d31552f8ea317746b99c3b2</td>\n",
       "      <td>27263454</td>\n",
       "      <td>** spoiler alert ** \\n This review contains so...</td>\n",
       "      <td>Sun Mar 13 07:23:25 -0700 2016</td>\n",
       "      <td>26</td>\n",
       "      <td>22</td>\n",
       "      <td>True</td>\n",
       "    </tr>\n",
       "    <tr>\n",
       "      <th>828d16efcbe76d387393cbbd7c57b81c</th>\n",
       "      <td>016e4d567d080cb669998f32b4f42820</td>\n",
       "      <td>237209</td>\n",
       "      <td>** spoiler alert ** \\n This would have been a ...</td>\n",
       "      <td>Mon May 25 16:36:33 -0700 2015</td>\n",
       "      <td>1</td>\n",
       "      <td>1</td>\n",
       "      <td>True</td>\n",
       "    </tr>\n",
       "    <tr>\n",
       "      <th>2d9a34b445a1572d7d0990be57ef8488</th>\n",
       "      <td>d1fadd1a3dd49adb282cacc65da78eac</td>\n",
       "      <td>13552306</td>\n",
       "      <td>** spoiler alert ** \\n CAUTION: By reading the...</td>\n",
       "      <td>Fri Nov 25 09:55:05 -0800 2016</td>\n",
       "      <td>2</td>\n",
       "      <td>0</td>\n",
       "      <td>True</td>\n",
       "    </tr>\n",
       "    <tr>\n",
       "      <th>a62684d5eb4003bec4fa50ea6fa48db4</th>\n",
       "      <td>fe02db082db48d326e32d1626b2eb0a6</td>\n",
       "      <td>11861062</td>\n",
       "      <td>** spoiler alert ** \\n corrected for spelling ...</td>\n",
       "      <td>Sat Jan 14 10:09:06 -0800 2012</td>\n",
       "      <td>68</td>\n",
       "      <td>59</td>\n",
       "      <td>True</td>\n",
       "    </tr>\n",
       "    <tr>\n",
       "      <th>8edbb05092e845187d0ce5ff4fd796b8</th>\n",
       "      <td>8e4573b94871e75398528196a9f39dff</td>\n",
       "      <td>10818853</td>\n",
       "      <td>** spoiler alert ** \\n I have read some awful ...</td>\n",
       "      <td>Thu Aug 16 21:32:21 -0700 2012</td>\n",
       "      <td>1</td>\n",
       "      <td>14</td>\n",
       "      <td>True</td>\n",
       "    </tr>\n",
       "    <tr>\n",
       "      <th>...</th>\n",
       "      <td>...</td>\n",
       "      <td>...</td>\n",
       "      <td>...</td>\n",
       "      <td>...</td>\n",
       "      <td>...</td>\n",
       "      <td>...</td>\n",
       "      <td>...</td>\n",
       "    </tr>\n",
       "    <tr>\n",
       "      <th>7964c18d3e39493a0c2a8e47a661ca0e</th>\n",
       "      <td>9ab4f527092424a77be21e1a139b9a09</td>\n",
       "      <td>8663600</td>\n",
       "      <td>** spoiler alert ** \\n Originally posted at On...</td>\n",
       "      <td>Mon May 16 21:20:14 -0700 2011</td>\n",
       "      <td>0</td>\n",
       "      <td>0</td>\n",
       "      <td>True</td>\n",
       "    </tr>\n",
       "    <tr>\n",
       "      <th>f3c7592d0218eb775cb390144fd37ccb</th>\n",
       "      <td>fa9b29a7a0b7219aa5050b5f0446d840</td>\n",
       "      <td>28187</td>\n",
       "      <td>** spoiler alert ** \\n Primarily this just... ...</td>\n",
       "      <td>Fri Sep 13 00:04:07 -0700 2013</td>\n",
       "      <td>0</td>\n",
       "      <td>0</td>\n",
       "      <td>True</td>\n",
       "    </tr>\n",
       "    <tr>\n",
       "      <th>187fde26ee5ba34294f4c6ac548b09f8</th>\n",
       "      <td>42f0a7cb849df52c7b4950ce0a5bf876</td>\n",
       "      <td>121749</td>\n",
       "      <td>** spoiler alert ** \\n This was originally my ...</td>\n",
       "      <td>Tue Jul 08 15:00:20 -0700 2008</td>\n",
       "      <td>0</td>\n",
       "      <td>0</td>\n",
       "      <td>True</td>\n",
       "    </tr>\n",
       "    <tr>\n",
       "      <th>097f0fdd97243eeb0610f2b96e7b9120</th>\n",
       "      <td>65ce9885f13fbe40f798d2cf3ea74e77</td>\n",
       "      <td>13055592</td>\n",
       "      <td>** spoiler alert ** \\n Right at the end, this ...</td>\n",
       "      <td>Wed Oct 10 00:12:01 -0700 2012</td>\n",
       "      <td>0</td>\n",
       "      <td>0</td>\n",
       "      <td>True</td>\n",
       "    </tr>\n",
       "    <tr>\n",
       "      <th>7f7cf5adfd032ad1347bb616bb2eb524</th>\n",
       "      <td>19b000569eba30bc67ecfa2950e13ae5</td>\n",
       "      <td>33727</td>\n",
       "      <td>** spoiler alert ** \\n i didnt realize this wo...</td>\n",
       "      <td>Thu Jul 07 17:20:01 -0700 2011</td>\n",
       "      <td>0</td>\n",
       "      <td>0</td>\n",
       "      <td>True</td>\n",
       "    </tr>\n",
       "  </tbody>\n",
       "</table>\n",
       "<p>15947 rows × 7 columns</p>\n",
       "</div>"
      ],
      "text/plain": [
       "                                                           user_id   book_id  \\\n",
       "review_id                                                                      \n",
       "edaeec606a0a807a4870baf048bf1f80  b56661124d31552f8ea317746b99c3b2  27263454   \n",
       "828d16efcbe76d387393cbbd7c57b81c  016e4d567d080cb669998f32b4f42820    237209   \n",
       "2d9a34b445a1572d7d0990be57ef8488  d1fadd1a3dd49adb282cacc65da78eac  13552306   \n",
       "a62684d5eb4003bec4fa50ea6fa48db4  fe02db082db48d326e32d1626b2eb0a6  11861062   \n",
       "8edbb05092e845187d0ce5ff4fd796b8  8e4573b94871e75398528196a9f39dff  10818853   \n",
       "...                                                            ...       ...   \n",
       "7964c18d3e39493a0c2a8e47a661ca0e  9ab4f527092424a77be21e1a139b9a09   8663600   \n",
       "f3c7592d0218eb775cb390144fd37ccb  fa9b29a7a0b7219aa5050b5f0446d840     28187   \n",
       "187fde26ee5ba34294f4c6ac548b09f8  42f0a7cb849df52c7b4950ce0a5bf876    121749   \n",
       "097f0fdd97243eeb0610f2b96e7b9120  65ce9885f13fbe40f798d2cf3ea74e77  13055592   \n",
       "7f7cf5adfd032ad1347bb616bb2eb524  19b000569eba30bc67ecfa2950e13ae5     33727   \n",
       "\n",
       "                                                                        review_text  \\\n",
       "review_id                                                                             \n",
       "edaeec606a0a807a4870baf048bf1f80  ** spoiler alert ** \\n This review contains so...   \n",
       "828d16efcbe76d387393cbbd7c57b81c  ** spoiler alert ** \\n This would have been a ...   \n",
       "2d9a34b445a1572d7d0990be57ef8488  ** spoiler alert ** \\n CAUTION: By reading the...   \n",
       "a62684d5eb4003bec4fa50ea6fa48db4  ** spoiler alert ** \\n corrected for spelling ...   \n",
       "8edbb05092e845187d0ce5ff4fd796b8  ** spoiler alert ** \\n I have read some awful ...   \n",
       "...                                                                             ...   \n",
       "7964c18d3e39493a0c2a8e47a661ca0e  ** spoiler alert ** \\n Originally posted at On...   \n",
       "f3c7592d0218eb775cb390144fd37ccb  ** spoiler alert ** \\n Primarily this just... ...   \n",
       "187fde26ee5ba34294f4c6ac548b09f8  ** spoiler alert ** \\n This was originally my ...   \n",
       "097f0fdd97243eeb0610f2b96e7b9120  ** spoiler alert ** \\n Right at the end, this ...   \n",
       "7f7cf5adfd032ad1347bb616bb2eb524  ** spoiler alert ** \\n i didnt realize this wo...   \n",
       "\n",
       "                                                      date_added  n_votes  \\\n",
       "review_id                                                                   \n",
       "edaeec606a0a807a4870baf048bf1f80  Sun Mar 13 07:23:25 -0700 2016       26   \n",
       "828d16efcbe76d387393cbbd7c57b81c  Mon May 25 16:36:33 -0700 2015        1   \n",
       "2d9a34b445a1572d7d0990be57ef8488  Fri Nov 25 09:55:05 -0800 2016        2   \n",
       "a62684d5eb4003bec4fa50ea6fa48db4  Sat Jan 14 10:09:06 -0800 2012       68   \n",
       "8edbb05092e845187d0ce5ff4fd796b8  Thu Aug 16 21:32:21 -0700 2012        1   \n",
       "...                                                          ...      ...   \n",
       "7964c18d3e39493a0c2a8e47a661ca0e  Mon May 16 21:20:14 -0700 2011        0   \n",
       "f3c7592d0218eb775cb390144fd37ccb  Fri Sep 13 00:04:07 -0700 2013        0   \n",
       "187fde26ee5ba34294f4c6ac548b09f8  Tue Jul 08 15:00:20 -0700 2008        0   \n",
       "097f0fdd97243eeb0610f2b96e7b9120  Wed Oct 10 00:12:01 -0700 2012        0   \n",
       "7f7cf5adfd032ad1347bb616bb2eb524  Thu Jul 07 17:20:01 -0700 2011        0   \n",
       "\n",
       "                                  n_comments  spoil  \n",
       "review_id                                            \n",
       "edaeec606a0a807a4870baf048bf1f80          22   True  \n",
       "828d16efcbe76d387393cbbd7c57b81c           1   True  \n",
       "2d9a34b445a1572d7d0990be57ef8488           0   True  \n",
       "a62684d5eb4003bec4fa50ea6fa48db4          59   True  \n",
       "8edbb05092e845187d0ce5ff4fd796b8          14   True  \n",
       "...                                      ...    ...  \n",
       "7964c18d3e39493a0c2a8e47a661ca0e           0   True  \n",
       "f3c7592d0218eb775cb390144fd37ccb           0   True  \n",
       "187fde26ee5ba34294f4c6ac548b09f8           0   True  \n",
       "097f0fdd97243eeb0610f2b96e7b9120           0   True  \n",
       "7f7cf5adfd032ad1347bb616bb2eb524           0   True  \n",
       "\n",
       "[15947 rows x 7 columns]"
      ]
     },
     "execution_count": 22,
     "metadata": {},
     "output_type": "execute_result"
    }
   ],
   "source": [
    "books[books['spoil'] == True]"
   ]
  },
  {
   "cell_type": "markdown",
   "metadata": {},
   "source": [
    "## Preprocessing the review texts"
   ]
  },
  {
   "cell_type": "code",
   "execution_count": 23,
   "metadata": {},
   "outputs": [],
   "source": [
    "import nltk\n",
    "from nltk.stem import WordNetLemmatizer\n",
    "from nltk.corpus import stopwords"
   ]
  },
  {
   "cell_type": "code",
   "execution_count": 24,
   "metadata": {},
   "outputs": [
    {
     "name": "stderr",
     "output_type": "stream",
     "text": [
      "100%|█████████████████████████████████| 801371/801371 [29:31<00:00, 452.38it/s]\n"
     ]
    },
    {
     "data": {
      "text/plain": [
       "review_id\n",
       "5e9173ca231c19f14fd16e1ec83ddf87    book agree reviewer said book bit pacing probl...\n",
       "31a129a5fcf87a128954176b5d6b0d14    actual rating fractured ok novel much guessing...\n",
       "591a91c198fe3c0584fb4a8634f8fb6d    review natasha gentile book scratching head on...\n",
       "1a781a58834f5ec17450b0e7bb1907ef    ahhh book book blow mind waiting read book lik...\n",
       "cab14d968eef209009cb92f596af077d    reminded reading sunshine away placid girl rea...\n",
       "Name: review_text_tokens, dtype: object"
      ]
     },
     "execution_count": 24,
     "metadata": {},
     "output_type": "execute_result"
    }
   ],
   "source": [
    "import string\n",
    "exclist = string.punctuation + string.digits\n",
    "lamitizer = WordNetLemmatizer()\n",
    "stopwords_list = stopwords.words('english')\n",
    "\n",
    "def preprocessing_text(txt):\n",
    "    words = txt.translate(str.maketrans(exclist, ' '*len(exclist))).lower().split()\n",
    "    return (' '.join([lamitizer.lemmatize(word) for word in words if word not in stopwords_list])).strip()\n",
    "\n",
    "\n",
    "books['review_text_tokens'] = books['review_text'].progress_apply(preprocessing_text)\n",
    "\n",
    "books['review_text_tokens'].sample(5)"
   ]
  },
  {
   "cell_type": "markdown",
   "metadata": {},
   "source": [
    "## Exploratory Data Analysis"
   ]
  },
  {
   "cell_type": "code",
   "execution_count": 25,
   "metadata": {},
   "outputs": [
    {
     "data": {
      "text/html": [
       "<div>\n",
       "<style scoped>\n",
       "    .dataframe tbody tr th:only-of-type {\n",
       "        vertical-align: middle;\n",
       "    }\n",
       "\n",
       "    .dataframe tbody tr th {\n",
       "        vertical-align: top;\n",
       "    }\n",
       "\n",
       "    .dataframe thead th {\n",
       "        text-align: right;\n",
       "    }\n",
       "</style>\n",
       "<table border=\"1\" class=\"dataframe\">\n",
       "  <thead>\n",
       "    <tr style=\"text-align: right;\">\n",
       "      <th></th>\n",
       "      <th>user_id</th>\n",
       "      <th>book_id</th>\n",
       "      <th>review_text</th>\n",
       "      <th>date_added</th>\n",
       "      <th>n_votes</th>\n",
       "      <th>n_comments</th>\n",
       "      <th>spoil</th>\n",
       "      <th>review_text_tokens</th>\n",
       "    </tr>\n",
       "    <tr>\n",
       "      <th>review_id</th>\n",
       "      <th></th>\n",
       "      <th></th>\n",
       "      <th></th>\n",
       "      <th></th>\n",
       "      <th></th>\n",
       "      <th></th>\n",
       "      <th></th>\n",
       "      <th></th>\n",
       "    </tr>\n",
       "  </thead>\n",
       "  <tbody>\n",
       "    <tr>\n",
       "      <th>e6b426ac93fcdd245ef9886bd8086d0a</th>\n",
       "      <td>2665c8f0bbd66b70caf2c3fc78ee96cf</td>\n",
       "      <td>11607446</td>\n",
       "      <td>Chris is a genius. Such talent in someone so y...</td>\n",
       "      <td>2016-05-27 02:18:32+00:00</td>\n",
       "      <td>1</td>\n",
       "      <td>0</td>\n",
       "      <td>False</td>\n",
       "      <td>chris genius talent someone young constantly a...</td>\n",
       "    </tr>\n",
       "    <tr>\n",
       "      <th>6d18e4e776c8aeab79eb5dc78d3f6b6e</th>\n",
       "      <td>d7c83751bd3f82b0a168935f60d631e6</td>\n",
       "      <td>23677316</td>\n",
       "      <td>Full Rating: 3.5/5 \\n This book was decent eno...</td>\n",
       "      <td>2017-03-19 19:27:06+00:00</td>\n",
       "      <td>0</td>\n",
       "      <td>0</td>\n",
       "      <td>False</td>\n",
       "      <td>full rating book decent enough pretty interest...</td>\n",
       "    </tr>\n",
       "    <tr>\n",
       "      <th>ea9e01fd92588a7a21f5b02604ae0116</th>\n",
       "      <td>a8dfd58592b83152db2e7771eb735fcb</td>\n",
       "      <td>29483403</td>\n",
       "      <td>I'm at a loss of words. I don't even know wher...</td>\n",
       "      <td>2017-07-28 22:52:21+00:00</td>\n",
       "      <td>3</td>\n",
       "      <td>0</td>\n",
       "      <td>False</td>\n",
       "      <td>loss word even know begin book destroyed heart...</td>\n",
       "    </tr>\n",
       "    <tr>\n",
       "      <th>e8dac67bd89a84c71037714da1988ae8</th>\n",
       "      <td>5d62c43db99989f793832a8b3c4beae8</td>\n",
       "      <td>18004320</td>\n",
       "      <td>So sad this series is over! These books really...</td>\n",
       "      <td>2014-03-23 17:41:46+00:00</td>\n",
       "      <td>0</td>\n",
       "      <td>0</td>\n",
       "      <td>False</td>\n",
       "      <td>sad series book really unique story really ori...</td>\n",
       "    </tr>\n",
       "    <tr>\n",
       "      <th>b11071d61b9ecf4fe7a0aec0aba116b8</th>\n",
       "      <td>cfaa2a1f39e15728a417089640673689</td>\n",
       "      <td>5287473</td>\n",
       "      <td>If I was a 13 year old girl I think I would ha...</td>\n",
       "      <td>2013-11-30 14:34:35+00:00</td>\n",
       "      <td>0</td>\n",
       "      <td>0</td>\n",
       "      <td>False</td>\n",
       "      <td>year old girl think would enjoyed book little ...</td>\n",
       "    </tr>\n",
       "  </tbody>\n",
       "</table>\n",
       "</div>"
      ],
      "text/plain": [
       "                                                           user_id   book_id  \\\n",
       "review_id                                                                      \n",
       "e6b426ac93fcdd245ef9886bd8086d0a  2665c8f0bbd66b70caf2c3fc78ee96cf  11607446   \n",
       "6d18e4e776c8aeab79eb5dc78d3f6b6e  d7c83751bd3f82b0a168935f60d631e6  23677316   \n",
       "ea9e01fd92588a7a21f5b02604ae0116  a8dfd58592b83152db2e7771eb735fcb  29483403   \n",
       "e8dac67bd89a84c71037714da1988ae8  5d62c43db99989f793832a8b3c4beae8  18004320   \n",
       "b11071d61b9ecf4fe7a0aec0aba116b8  cfaa2a1f39e15728a417089640673689   5287473   \n",
       "\n",
       "                                                                        review_text  \\\n",
       "review_id                                                                             \n",
       "e6b426ac93fcdd245ef9886bd8086d0a  Chris is a genius. Such talent in someone so y...   \n",
       "6d18e4e776c8aeab79eb5dc78d3f6b6e  Full Rating: 3.5/5 \\n This book was decent eno...   \n",
       "ea9e01fd92588a7a21f5b02604ae0116  I'm at a loss of words. I don't even know wher...   \n",
       "e8dac67bd89a84c71037714da1988ae8  So sad this series is over! These books really...   \n",
       "b11071d61b9ecf4fe7a0aec0aba116b8  If I was a 13 year old girl I think I would ha...   \n",
       "\n",
       "                                                date_added  n_votes  \\\n",
       "review_id                                                             \n",
       "e6b426ac93fcdd245ef9886bd8086d0a 2016-05-27 02:18:32+00:00        1   \n",
       "6d18e4e776c8aeab79eb5dc78d3f6b6e 2017-03-19 19:27:06+00:00        0   \n",
       "ea9e01fd92588a7a21f5b02604ae0116 2017-07-28 22:52:21+00:00        3   \n",
       "e8dac67bd89a84c71037714da1988ae8 2014-03-23 17:41:46+00:00        0   \n",
       "b11071d61b9ecf4fe7a0aec0aba116b8 2013-11-30 14:34:35+00:00        0   \n",
       "\n",
       "                                  n_comments  spoil  \\\n",
       "review_id                                             \n",
       "e6b426ac93fcdd245ef9886bd8086d0a           0  False   \n",
       "6d18e4e776c8aeab79eb5dc78d3f6b6e           0  False   \n",
       "ea9e01fd92588a7a21f5b02604ae0116           0  False   \n",
       "e8dac67bd89a84c71037714da1988ae8           0  False   \n",
       "b11071d61b9ecf4fe7a0aec0aba116b8           0  False   \n",
       "\n",
       "                                                                 review_text_tokens  \n",
       "review_id                                                                            \n",
       "e6b426ac93fcdd245ef9886bd8086d0a  chris genius talent someone young constantly a...  \n",
       "6d18e4e776c8aeab79eb5dc78d3f6b6e  full rating book decent enough pretty interest...  \n",
       "ea9e01fd92588a7a21f5b02604ae0116  loss word even know begin book destroyed heart...  \n",
       "e8dac67bd89a84c71037714da1988ae8  sad series book really unique story really ori...  \n",
       "b11071d61b9ecf4fe7a0aec0aba116b8  year old girl think would enjoyed book little ...  "
      ]
     },
     "execution_count": 25,
     "metadata": {},
     "output_type": "execute_result"
    }
   ],
   "source": [
    "datetime_format = '%a %b %d %H:%M:%S %z %Y'\n",
    "books['date_added'] = pd.to_datetime(books['date_added'], infer_datetime_format=True, utc=True)\n",
    "\n",
    "books.sample(5)"
   ]
  },
  {
   "cell_type": "code",
   "execution_count": 29,
   "metadata": {},
   "outputs": [],
   "source": [
    "books_dates_added = books['date_added'].dt.date\n"
   ]
  },
  {
   "cell_type": "code",
   "execution_count": 30,
   "metadata": {},
   "outputs": [
    {
     "data": {
      "text/plain": [
       "<matplotlib.axes._subplots.AxesSubplot at 0x937527c8>"
      ]
     },
     "execution_count": 30,
     "metadata": {},
     "output_type": "execute_result"
    },
    {
     "data": {
      "image/png": "[encoded data removed]",
      "text/plain": [
       "<Figure size 720x576 with 1 Axes>"
      ]
     },
     "metadata": {
      "needs_background": "light"
     },
     "output_type": "display_data"
    }
   ],
   "source": [
    "books_dates_added.value_counts()[:10].plot(kind='bar', \n",
    "                                            figsize=(10, 8),\n",
    "                                            title='10 Date with most reviews')"
   ]
  },
  {
   "cell_type": "code",
   "execution_count": 31,
   "metadata": {},
   "outputs": [
    {
     "data": {
      "text/plain": [
       "<matplotlib.axes._subplots.AxesSubplot at 0x681a0688>"
      ]
     },
     "execution_count": 31,
     "metadata": {},
     "output_type": "execute_result"
    },
    {
     "data": {
      "image/png": "[encoded data removed]",
      "text/plain": [
       "<Figure size 720x576 with 1 Axes>"
      ]
     },
     "metadata": {
      "needs_background": "light"
     },
     "output_type": "display_data"
    }
   ],
   "source": [
    "books['spoil'].value_counts().plot(kind='bar', \n",
    "                                   figsize=(10, 8),\n",
    "                                   title='Number of Spoilers Vs. NO Spoilers')                         "
   ]
  },
  {
   "cell_type": "code",
   "execution_count": 32,
   "metadata": {},
   "outputs": [
    {
     "data": {
      "text/plain": [
       "review_id\n",
       "0494f6c13ba40a02ebd53e4863dd6b5b    3\n",
       "106405198ae8c94499f3fb72bc24dbd9    5\n",
       "5698c4b872a7818c7489f9fa858df6c9    4\n",
       "f6b090ade03b02ea131bbb8357bb84da    4\n",
       "cba6c3d67c25ebeee3bcad8cbe98e127    4\n",
       "Name: rating, dtype: int64"
      ]
     },
     "execution_count": 32,
     "metadata": {},
     "output_type": "execute_result"
    }
   ],
   "source": [
    "books_rates.sample(5)"
   ]
  },
  {
   "cell_type": "code",
   "execution_count": 25,
   "metadata": {},
   "outputs": [
    {
     "data": {
      "text/html": [
       "<div>\n",
       "<style scoped>\n",
       "    .dataframe tbody tr th:only-of-type {\n",
       "        vertical-align: middle;\n",
       "    }\n",
       "\n",
       "    .dataframe tbody tr th {\n",
       "        vertical-align: top;\n",
       "    }\n",
       "\n",
       "    .dataframe thead th {\n",
       "        text-align: right;\n",
       "    }\n",
       "</style>\n",
       "<table border=\"1\" class=\"dataframe\">\n",
       "  <thead>\n",
       "    <tr style=\"text-align: right;\">\n",
       "      <th></th>\n",
       "      <th>user_id</th>\n",
       "      <th>book_id</th>\n",
       "      <th>review_text</th>\n",
       "      <th>date_added</th>\n",
       "      <th>n_votes</th>\n",
       "      <th>n_comments</th>\n",
       "      <th>spoil</th>\n",
       "      <th>review_text_tokens</th>\n",
       "      <th>rating</th>\n",
       "    </tr>\n",
       "    <tr>\n",
       "      <th>review_id</th>\n",
       "      <th></th>\n",
       "      <th></th>\n",
       "      <th></th>\n",
       "      <th></th>\n",
       "      <th></th>\n",
       "      <th></th>\n",
       "      <th></th>\n",
       "      <th></th>\n",
       "      <th></th>\n",
       "    </tr>\n",
       "  </thead>\n",
       "  <tbody>\n",
       "    <tr>\n",
       "      <th>5d46eca88f0c02a9de132454973f0d6c</th>\n",
       "      <td>e940711ae93c1902afa25745739139e0</td>\n",
       "      <td>22756190</td>\n",
       "      <td>I liked it but it was nothing really special. ...</td>\n",
       "      <td>Mon Oct 26 11:15:53 -0700 2015</td>\n",
       "      <td>1</td>\n",
       "      <td>0</td>\n",
       "      <td>False</td>\n",
       "      <td>liked nothing really special character okay ev...</td>\n",
       "      <td>3</td>\n",
       "    </tr>\n",
       "    <tr>\n",
       "      <th>822d4db4059e05b702db09e88963f367</th>\n",
       "      <td>0d81d76c4b6a2c7884d2392bc50c2b4f</td>\n",
       "      <td>17373178</td>\n",
       "      <td>I loved it! Angels or butterflies? Sometimes y...</td>\n",
       "      <td>Wed Feb 20 19:41:39 -0800 2013</td>\n",
       "      <td>1</td>\n",
       "      <td>1</td>\n",
       "      <td>False</td>\n",
       "      <td>loved angel butterfly sometimes want started r...</td>\n",
       "      <td>5</td>\n",
       "    </tr>\n",
       "    <tr>\n",
       "      <th>4db585780c89f88037dcb832925e3336</th>\n",
       "      <td>ff81e53e2e7287f05f19e1efbfcec0bf</td>\n",
       "      <td>764347</td>\n",
       "      <td>I started out this book with low expectations ...</td>\n",
       "      <td>Sat Apr 07 19:33:55 -0700 2012</td>\n",
       "      <td>0</td>\n",
       "      <td>0</td>\n",
       "      <td>False</td>\n",
       "      <td>started book low expectation high standard rea...</td>\n",
       "      <td>5</td>\n",
       "    </tr>\n",
       "  </tbody>\n",
       "</table>\n",
       "</div>"
      ],
      "text/plain": [
       "                                                           user_id   book_id  \\\n",
       "review_id                                                                      \n",
       "5d46eca88f0c02a9de132454973f0d6c  e940711ae93c1902afa25745739139e0  22756190   \n",
       "822d4db4059e05b702db09e88963f367  0d81d76c4b6a2c7884d2392bc50c2b4f  17373178   \n",
       "4db585780c89f88037dcb832925e3336  ff81e53e2e7287f05f19e1efbfcec0bf    764347   \n",
       "\n",
       "                                                                        review_text  \\\n",
       "review_id                                                                             \n",
       "5d46eca88f0c02a9de132454973f0d6c  I liked it but it was nothing really special. ...   \n",
       "822d4db4059e05b702db09e88963f367  I loved it! Angels or butterflies? Sometimes y...   \n",
       "4db585780c89f88037dcb832925e3336  I started out this book with low expectations ...   \n",
       "\n",
       "                                                      date_added  n_votes  \\\n",
       "review_id                                                                   \n",
       "5d46eca88f0c02a9de132454973f0d6c  Mon Oct 26 11:15:53 -0700 2015        1   \n",
       "822d4db4059e05b702db09e88963f367  Wed Feb 20 19:41:39 -0800 2013        1   \n",
       "4db585780c89f88037dcb832925e3336  Sat Apr 07 19:33:55 -0700 2012        0   \n",
       "\n",
       "                                  n_comments  spoil  \\\n",
       "review_id                                             \n",
       "5d46eca88f0c02a9de132454973f0d6c           0  False   \n",
       "822d4db4059e05b702db09e88963f367           1  False   \n",
       "4db585780c89f88037dcb832925e3336           0  False   \n",
       "\n",
       "                                                                 review_text_tokens  \\\n",
       "review_id                                                                             \n",
       "5d46eca88f0c02a9de132454973f0d6c  liked nothing really special character okay ev...   \n",
       "822d4db4059e05b702db09e88963f367  loved angel butterfly sometimes want started r...   \n",
       "4db585780c89f88037dcb832925e3336  started book low expectation high standard rea...   \n",
       "\n",
       "                                  rating  \n",
       "review_id                                 \n",
       "5d46eca88f0c02a9de132454973f0d6c       3  \n",
       "822d4db4059e05b702db09e88963f367       5  \n",
       "4db585780c89f88037dcb832925e3336       5  "
      ]
     },
     "execution_count": 25,
     "metadata": {},
     "output_type": "execute_result"
    }
   ],
   "source": [
    "clean_books_rate = books.merge(books_rates, how='inner', on='review_id')\n",
    "clean_books_rate.sample(3)"
   ]
  },
  {
   "cell_type": "code",
   "execution_count": 26,
   "metadata": {},
   "outputs": [],
   "source": [
    "clean_books_rate.drop(['review_text'], axis=1,inplace=True)"
   ]
  },
  {
   "cell_type": "code",
   "execution_count": 27,
   "metadata": {},
   "outputs": [],
   "source": [
    "clean_books_rate.to_csv(r'C:\\Users\\Dell\\Desktop\\caryon\\final_eda_data.csv')"
   ]
  },
  {
   "cell_type": "code",
   "execution_count": 28,
   "metadata": {},
   "outputs": [],
   "source": [
    "#clean_books_rate=pd.read_csv(r'C:\\Users\\Dell\\Desktop\\caryon\\final_eda_data.csv')"
   ]
  },
  {
   "cell_type": "code",
   "execution_count": 29,
   "metadata": {},
   "outputs": [
    {
     "data": {
      "text/html": [
       "<div>\n",
       "<style scoped>\n",
       "    .dataframe tbody tr th:only-of-type {\n",
       "        vertical-align: middle;\n",
       "    }\n",
       "\n",
       "    .dataframe tbody tr th {\n",
       "        vertical-align: top;\n",
       "    }\n",
       "\n",
       "    .dataframe thead th {\n",
       "        text-align: right;\n",
       "    }\n",
       "</style>\n",
       "<table border=\"1\" class=\"dataframe\">\n",
       "  <thead>\n",
       "    <tr style=\"text-align: right;\">\n",
       "      <th></th>\n",
       "      <th>user_id</th>\n",
       "      <th>book_id</th>\n",
       "      <th>date_added</th>\n",
       "      <th>n_votes</th>\n",
       "      <th>n_comments</th>\n",
       "      <th>spoil</th>\n",
       "      <th>review_text_tokens</th>\n",
       "      <th>rating</th>\n",
       "    </tr>\n",
       "    <tr>\n",
       "      <th>review_id</th>\n",
       "      <th></th>\n",
       "      <th></th>\n",
       "      <th></th>\n",
       "      <th></th>\n",
       "      <th></th>\n",
       "      <th></th>\n",
       "      <th></th>\n",
       "      <th></th>\n",
       "    </tr>\n",
       "  </thead>\n",
       "  <tbody>\n",
       "    <tr>\n",
       "      <th>2c30cadfee9ebc276999f0cdda3de32e</th>\n",
       "      <td>aca760854b57ce2ec981df32e46dc96c</td>\n",
       "      <td>13526165</td>\n",
       "      <td>Mon Jul 03 19:37:38 -0700 2017</td>\n",
       "      <td>7</td>\n",
       "      <td>0</td>\n",
       "      <td>False</td>\n",
       "      <td>quirky pretty good confused first thought funn...</td>\n",
       "      <td>3</td>\n",
       "    </tr>\n",
       "    <tr>\n",
       "      <th>cbc0495e331e5e769c3af501865463ad</th>\n",
       "      <td>1a18545e0bf07492a69ddfb430e090bb</td>\n",
       "      <td>17465574</td>\n",
       "      <td>Sun Mar 15 12:02:41 -0700 2015</td>\n",
       "      <td>0</td>\n",
       "      <td>0</td>\n",
       "      <td>False</td>\n",
       "      <td>love love love loved book every scene resonate...</td>\n",
       "      <td>5</td>\n",
       "    </tr>\n",
       "    <tr>\n",
       "      <th>6f723a926f38a4466e7bf0ba2f302123</th>\n",
       "      <td>efcdfdafdb3210d09834c44b78b7973b</td>\n",
       "      <td>26101055</td>\n",
       "      <td>Mon Oct 05 05:30:37 -0700 2015</td>\n",
       "      <td>9</td>\n",
       "      <td>0</td>\n",
       "      <td>False</td>\n",
       "      <td>copy book provided netgalley via publisher exc...</td>\n",
       "      <td>4</td>\n",
       "    </tr>\n",
       "    <tr>\n",
       "      <th>92d22c3beccee5f9a1372e58cdff86eb</th>\n",
       "      <td>2c416ed526b5c03c4acb81116f013576</td>\n",
       "      <td>13107655</td>\n",
       "      <td>Fri Jan 20 18:56:40 -0800 2012</td>\n",
       "      <td>2</td>\n",
       "      <td>3</td>\n",
       "      <td>False</td>\n",
       "      <td>even though series much like lora leigh breed ...</td>\n",
       "      <td>2</td>\n",
       "    </tr>\n",
       "    <tr>\n",
       "      <th>0ac0a1c95afc3c58e79a9bd0ce3509bb</th>\n",
       "      <td>60b7212f3b01121b9ea5bddc0262bb41</td>\n",
       "      <td>18076439</td>\n",
       "      <td>Wed Nov 13 15:13:08 -0800 2013</td>\n",
       "      <td>0</td>\n",
       "      <td>0</td>\n",
       "      <td>False</td>\n",
       "      <td>always loved long voice light witty romance st...</td>\n",
       "      <td>4</td>\n",
       "    </tr>\n",
       "  </tbody>\n",
       "</table>\n",
       "</div>"
      ],
      "text/plain": [
       "                                                           user_id   book_id  \\\n",
       "review_id                                                                      \n",
       "2c30cadfee9ebc276999f0cdda3de32e  aca760854b57ce2ec981df32e46dc96c  13526165   \n",
       "cbc0495e331e5e769c3af501865463ad  1a18545e0bf07492a69ddfb430e090bb  17465574   \n",
       "6f723a926f38a4466e7bf0ba2f302123  efcdfdafdb3210d09834c44b78b7973b  26101055   \n",
       "92d22c3beccee5f9a1372e58cdff86eb  2c416ed526b5c03c4acb81116f013576  13107655   \n",
       "0ac0a1c95afc3c58e79a9bd0ce3509bb  60b7212f3b01121b9ea5bddc0262bb41  18076439   \n",
       "\n",
       "                                                      date_added  n_votes  \\\n",
       "review_id                                                                   \n",
       "2c30cadfee9ebc276999f0cdda3de32e  Mon Jul 03 19:37:38 -0700 2017        7   \n",
       "cbc0495e331e5e769c3af501865463ad  Sun Mar 15 12:02:41 -0700 2015        0   \n",
       "6f723a926f38a4466e7bf0ba2f302123  Mon Oct 05 05:30:37 -0700 2015        9   \n",
       "92d22c3beccee5f9a1372e58cdff86eb  Fri Jan 20 18:56:40 -0800 2012        2   \n",
       "0ac0a1c95afc3c58e79a9bd0ce3509bb  Wed Nov 13 15:13:08 -0800 2013        0   \n",
       "\n",
       "                                  n_comments  spoil  \\\n",
       "review_id                                             \n",
       "2c30cadfee9ebc276999f0cdda3de32e           0  False   \n",
       "cbc0495e331e5e769c3af501865463ad           0  False   \n",
       "6f723a926f38a4466e7bf0ba2f302123           0  False   \n",
       "92d22c3beccee5f9a1372e58cdff86eb           3  False   \n",
       "0ac0a1c95afc3c58e79a9bd0ce3509bb           0  False   \n",
       "\n",
       "                                                                 review_text_tokens  \\\n",
       "review_id                                                                             \n",
       "2c30cadfee9ebc276999f0cdda3de32e  quirky pretty good confused first thought funn...   \n",
       "cbc0495e331e5e769c3af501865463ad  love love love loved book every scene resonate...   \n",
       "6f723a926f38a4466e7bf0ba2f302123  copy book provided netgalley via publisher exc...   \n",
       "92d22c3beccee5f9a1372e58cdff86eb  even though series much like lora leigh breed ...   \n",
       "0ac0a1c95afc3c58e79a9bd0ce3509bb  always loved long voice light witty romance st...   \n",
       "\n",
       "                                  rating  \n",
       "review_id                                 \n",
       "2c30cadfee9ebc276999f0cdda3de32e       3  \n",
       "cbc0495e331e5e769c3af501865463ad       5  \n",
       "6f723a926f38a4466e7bf0ba2f302123       4  \n",
       "92d22c3beccee5f9a1372e58cdff86eb       2  \n",
       "0ac0a1c95afc3c58e79a9bd0ce3509bb       4  "
      ]
     },
     "execution_count": 29,
     "metadata": {},
     "output_type": "execute_result"
    }
   ],
   "source": [
    "clean_books_rate.head()"
   ]
  },
  {
   "cell_type": "code",
   "execution_count": 18,
   "metadata": {},
   "outputs": [
    {
     "data": {
      "text/plain": [
       "<matplotlib.axes._subplots.AxesSubplot at 0xdb626c8>"
      ]
     },
     "execution_count": 18,
     "metadata": {},
     "output_type": "execute_result"
    },
    {
     "data": {
      "image/png": "[encoded data removed]",
      "text/plain": [
       "<Figure size 720x576 with 1 Axes>"
      ]
     },
     "metadata": {
      "needs_background": "light"
     },
     "output_type": "display_data"
    }
   ],
   "source": [
    "clean_books_rate['rating'].value_counts().plot(kind='bar', \n",
    "                                                figsize=(10, 8),\n",
    "                                                title='The Number of each rate')"
   ]
  },
  {
   "cell_type": "code",
   "execution_count": 19,
   "metadata": {},
   "outputs": [
    {
     "data": {
      "text/plain": [
       "<matplotlib.axes._subplots.AxesSubplot at 0xdde21c8>"
      ]
     },
     "execution_count": 19,
     "metadata": {},
     "output_type": "execute_result"
    },
    {
     "data": {
      "image/png": "[encoded data removed]",
      "text/plain": [
       "<Figure size 720x576 with 1 Axes>"
      ]
     },
     "metadata": {
      "needs_background": "light"
     },
     "output_type": "display_data"
    }
   ],
   "source": [
    "clean_books_rate.groupby(by='book_id').mean()['rating'] \\\n",
    "                    .plot(kind='hist', \n",
    "                            figsize=(10, 8),\n",
    "                            title='The Mean of rateing per book',\n",
    "                            bins=100, \n",
    "                            legend=True)"
   ]
  },
  {
   "cell_type": "code",
   "execution_count": 20,
   "metadata": {},
   "outputs": [
    {
     "data": {
      "text/plain": [
       "<matplotlib.axes._subplots.AxesSubplot at 0xdd83c48>"
      ]
     },
     "execution_count": 20,
     "metadata": {},
     "output_type": "execute_result"
    },
    {
     "data": {
      "image/png": "[encoded data removed]",
      "text/plain": [
       "<Figure size 720x576 with 1 Axes>"
      ]
     },
     "metadata": {
      "needs_background": "light"
     },
     "output_type": "display_data"
    }
   ],
   "source": [
    "clean_books_rate.groupby(by='book_id').std()['rating'] \\\n",
    "                    .plot(kind='hist', \n",
    "                            figsize=(10, 8),\n",
    "                            title='The STD of rateing per book',\n",
    "                            bins=100, \n",
    "                            legend=True)"
   ]
  },
  {
   "cell_type": "markdown",
   "metadata": {},
   "source": [
    "## Popularity Based Recommendation"
   ]
  },
  {
   "cell_type": "code",
   "execution_count": 30,
   "metadata": {},
   "outputs": [
    {
     "data": {
      "text/plain": [
       "(449616, 8)"
      ]
     },
     "execution_count": 30,
     "metadata": {},
     "output_type": "execute_result"
    }
   ],
   "source": [
    "#Getting the new dataframe which contains users who has given 50 or more ratings\n",
    "new_df=clean_books_rate.groupby(\"book_id\").filter(lambda x:x['rating'].count() >=50)\n",
    "new_df.shape"
   ]
  },
  {
   "cell_type": "code",
   "execution_count": 31,
   "metadata": {},
   "outputs": [
    {
     "data": {
      "image/png": "[encoded data removed]",
      "text/plain": [
       "<Figure size 576x288 with 1 Axes>"
      ]
     },
     "metadata": {
      "needs_background": "light"
     },
     "output_type": "display_data"
    }
   ],
   "source": [
    "no_of_ratings_per_book = new_df.groupby(by=\"book_id\")['rating'].count().sort_values(ascending=False)\n",
    "\n",
    "fig = plt.figure(figsize=plt.figaspect(.5))\n",
    "ax = plt.gca()\n",
    "plt.plot(no_of_ratings_per_book.values)\n",
    "plt.title('# RATINGS per Book')\n",
    "plt.xlabel('Book')\n",
    "plt.ylabel('No of ratings per book')\n",
    "ax.set_xticklabels([])\n",
    "\n",
    "plt.show()"
   ]
  },
  {
   "cell_type": "code",
   "execution_count": 32,
   "metadata": {},
   "outputs": [
    {
     "data": {
      "text/plain": [
       "book_id\n",
       "1    4.588235\n",
       "2    4.453521\n",
       "3    4.531401\n",
       "5    4.700472\n",
       "6    4.587013\n",
       "Name: rating, dtype: float64"
      ]
     },
     "execution_count": 32,
     "metadata": {},
     "output_type": "execute_result"
    }
   ],
   "source": [
    "#Average rating of the product \n",
    "new_df.groupby('book_id')['rating'].mean().head()"
   ]
  },
  {
   "cell_type": "code",
   "execution_count": 33,
   "metadata": {},
   "outputs": [
    {
     "data": {
      "text/plain": [
       "book_id\n",
       "22024907    4.821429\n",
       "464164      4.785714\n",
       "24548235    4.771930\n",
       "27422533    4.723077\n",
       "18628601    4.705882\n",
       "Name: rating, dtype: float64"
      ]
     },
     "execution_count": 33,
     "metadata": {},
     "output_type": "execute_result"
    }
   ],
   "source": [
    "new_df.groupby('book_id')['rating'].mean().sort_values(ascending=False).head()"
   ]
  },
  {
   "cell_type": "code",
   "execution_count": 34,
   "metadata": {},
   "outputs": [
    {
     "data": {
      "text/plain": [
       "book_id\n",
       "11870085    1517\n",
       "11235712    1334\n",
       "2767052     1220\n",
       "7260188     1136\n",
       "29056083    1038\n",
       "Name: rating, dtype: int64"
      ]
     },
     "execution_count": 34,
     "metadata": {},
     "output_type": "execute_result"
    }
   ],
   "source": [
    "#Total no of rating for product\n",
    "new_df.groupby('book_id')['rating'].count().sort_values(ascending=False).head()"
   ]
  },
  {
   "cell_type": "code",
   "execution_count": 35,
   "metadata": {},
   "outputs": [
    {
     "data": {
      "text/html": [
       "<div>\n",
       "<style scoped>\n",
       "    .dataframe tbody tr th:only-of-type {\n",
       "        vertical-align: middle;\n",
       "    }\n",
       "\n",
       "    .dataframe tbody tr th {\n",
       "        vertical-align: top;\n",
       "    }\n",
       "\n",
       "    .dataframe thead th {\n",
       "        text-align: right;\n",
       "    }\n",
       "</style>\n",
       "<table border=\"1\" class=\"dataframe\">\n",
       "  <thead>\n",
       "    <tr style=\"text-align: right;\">\n",
       "      <th></th>\n",
       "      <th>rating</th>\n",
       "    </tr>\n",
       "    <tr>\n",
       "      <th>book_id</th>\n",
       "      <th></th>\n",
       "    </tr>\n",
       "  </thead>\n",
       "  <tbody>\n",
       "    <tr>\n",
       "      <th>1</th>\n",
       "      <td>4.588235</td>\n",
       "    </tr>\n",
       "    <tr>\n",
       "      <th>2</th>\n",
       "      <td>4.453521</td>\n",
       "    </tr>\n",
       "    <tr>\n",
       "      <th>3</th>\n",
       "      <td>4.531401</td>\n",
       "    </tr>\n",
       "    <tr>\n",
       "      <th>5</th>\n",
       "      <td>4.700472</td>\n",
       "    </tr>\n",
       "    <tr>\n",
       "      <th>6</th>\n",
       "      <td>4.587013</td>\n",
       "    </tr>\n",
       "    <tr>\n",
       "      <th>...</th>\n",
       "      <td>...</td>\n",
       "    </tr>\n",
       "    <tr>\n",
       "      <th>34346381</th>\n",
       "      <td>4.250000</td>\n",
       "    </tr>\n",
       "    <tr>\n",
       "      <th>34454739</th>\n",
       "      <td>4.250000</td>\n",
       "    </tr>\n",
       "    <tr>\n",
       "      <th>35247769</th>\n",
       "      <td>3.651282</td>\n",
       "    </tr>\n",
       "    <tr>\n",
       "      <th>35404657</th>\n",
       "      <td>3.275362</td>\n",
       "    </tr>\n",
       "    <tr>\n",
       "      <th>35504431</th>\n",
       "      <td>3.924242</td>\n",
       "    </tr>\n",
       "  </tbody>\n",
       "</table>\n",
       "<p>3655 rows × 1 columns</p>\n",
       "</div>"
      ],
      "text/plain": [
       "            rating\n",
       "book_id           \n",
       "1         4.588235\n",
       "2         4.453521\n",
       "3         4.531401\n",
       "5         4.700472\n",
       "6         4.587013\n",
       "...            ...\n",
       "34346381  4.250000\n",
       "34454739  4.250000\n",
       "35247769  3.651282\n",
       "35404657  3.275362\n",
       "35504431  3.924242\n",
       "\n",
       "[3655 rows x 1 columns]"
      ]
     },
     "execution_count": 35,
     "metadata": {},
     "output_type": "execute_result"
    }
   ],
   "source": [
    "ratings_mean_count = pd.DataFrame(new_df.groupby('book_id')['rating'].mean())\n",
    "ratings_mean_count "
   ]
  },
  {
   "cell_type": "code",
   "execution_count": 36,
   "metadata": {},
   "outputs": [
    {
     "data": {
      "text/html": [
       "<div>\n",
       "<style scoped>\n",
       "    .dataframe tbody tr th:only-of-type {\n",
       "        vertical-align: middle;\n",
       "    }\n",
       "\n",
       "    .dataframe tbody tr th {\n",
       "        vertical-align: top;\n",
       "    }\n",
       "\n",
       "    .dataframe thead th {\n",
       "        text-align: right;\n",
       "    }\n",
       "</style>\n",
       "<table border=\"1\" class=\"dataframe\">\n",
       "  <thead>\n",
       "    <tr style=\"text-align: right;\">\n",
       "      <th></th>\n",
       "      <th>rating</th>\n",
       "      <th>rating_counts</th>\n",
       "    </tr>\n",
       "    <tr>\n",
       "      <th>book_id</th>\n",
       "      <th></th>\n",
       "      <th></th>\n",
       "    </tr>\n",
       "  </thead>\n",
       "  <tbody>\n",
       "    <tr>\n",
       "      <th>1</th>\n",
       "      <td>4.588235</td>\n",
       "      <td>340</td>\n",
       "    </tr>\n",
       "    <tr>\n",
       "      <th>2</th>\n",
       "      <td>4.453521</td>\n",
       "      <td>355</td>\n",
       "    </tr>\n",
       "    <tr>\n",
       "      <th>3</th>\n",
       "      <td>4.531401</td>\n",
       "      <td>621</td>\n",
       "    </tr>\n",
       "    <tr>\n",
       "      <th>5</th>\n",
       "      <td>4.700472</td>\n",
       "      <td>424</td>\n",
       "    </tr>\n",
       "    <tr>\n",
       "      <th>6</th>\n",
       "      <td>4.587013</td>\n",
       "      <td>385</td>\n",
       "    </tr>\n",
       "    <tr>\n",
       "      <th>...</th>\n",
       "      <td>...</td>\n",
       "      <td>...</td>\n",
       "    </tr>\n",
       "    <tr>\n",
       "      <th>34346381</th>\n",
       "      <td>4.250000</td>\n",
       "      <td>56</td>\n",
       "    </tr>\n",
       "    <tr>\n",
       "      <th>34454739</th>\n",
       "      <td>4.250000</td>\n",
       "      <td>64</td>\n",
       "    </tr>\n",
       "    <tr>\n",
       "      <th>35247769</th>\n",
       "      <td>3.651282</td>\n",
       "      <td>195</td>\n",
       "    </tr>\n",
       "    <tr>\n",
       "      <th>35404657</th>\n",
       "      <td>3.275362</td>\n",
       "      <td>69</td>\n",
       "    </tr>\n",
       "    <tr>\n",
       "      <th>35504431</th>\n",
       "      <td>3.924242</td>\n",
       "      <td>66</td>\n",
       "    </tr>\n",
       "  </tbody>\n",
       "</table>\n",
       "<p>3655 rows × 2 columns</p>\n",
       "</div>"
      ],
      "text/plain": [
       "            rating  rating_counts\n",
       "book_id                          \n",
       "1         4.588235            340\n",
       "2         4.453521            355\n",
       "3         4.531401            621\n",
       "5         4.700472            424\n",
       "6         4.587013            385\n",
       "...            ...            ...\n",
       "34346381  4.250000             56\n",
       "34454739  4.250000             64\n",
       "35247769  3.651282            195\n",
       "35404657  3.275362             69\n",
       "35504431  3.924242             66\n",
       "\n",
       "[3655 rows x 2 columns]"
      ]
     },
     "execution_count": 36,
     "metadata": {},
     "output_type": "execute_result"
    }
   ],
   "source": [
    "ratings_mean_count['rating_counts'] = pd.DataFrame(new_df.groupby('book_id')['rating'].count())\n",
    "ratings_mean_count "
   ]
  },
  {
   "cell_type": "code",
   "execution_count": 37,
   "metadata": {},
   "outputs": [
    {
     "data": {
      "text/html": [
       "<div>\n",
       "<style scoped>\n",
       "    .dataframe tbody tr th:only-of-type {\n",
       "        vertical-align: middle;\n",
       "    }\n",
       "\n",
       "    .dataframe tbody tr th {\n",
       "        vertical-align: top;\n",
       "    }\n",
       "\n",
       "    .dataframe thead th {\n",
       "        text-align: right;\n",
       "    }\n",
       "</style>\n",
       "<table border=\"1\" class=\"dataframe\">\n",
       "  <thead>\n",
       "    <tr style=\"text-align: right;\">\n",
       "      <th></th>\n",
       "      <th>rating</th>\n",
       "      <th>rating_counts</th>\n",
       "    </tr>\n",
       "    <tr>\n",
       "      <th>book_id</th>\n",
       "      <th></th>\n",
       "      <th></th>\n",
       "    </tr>\n",
       "  </thead>\n",
       "  <tbody>\n",
       "    <tr>\n",
       "      <th>1</th>\n",
       "      <td>4.588235</td>\n",
       "      <td>340</td>\n",
       "    </tr>\n",
       "    <tr>\n",
       "      <th>2</th>\n",
       "      <td>4.453521</td>\n",
       "      <td>355</td>\n",
       "    </tr>\n",
       "    <tr>\n",
       "      <th>3</th>\n",
       "      <td>4.531401</td>\n",
       "      <td>621</td>\n",
       "    </tr>\n",
       "    <tr>\n",
       "      <th>5</th>\n",
       "      <td>4.700472</td>\n",
       "      <td>424</td>\n",
       "    </tr>\n",
       "    <tr>\n",
       "      <th>6</th>\n",
       "      <td>4.587013</td>\n",
       "      <td>385</td>\n",
       "    </tr>\n",
       "  </tbody>\n",
       "</table>\n",
       "</div>"
      ],
      "text/plain": [
       "           rating  rating_counts\n",
       "book_id                         \n",
       "1        4.588235            340\n",
       "2        4.453521            355\n",
       "3        4.531401            621\n",
       "5        4.700472            424\n",
       "6        4.587013            385"
      ]
     },
     "execution_count": 37,
     "metadata": {},
     "output_type": "execute_result"
    }
   ],
   "source": [
    "ratings_mean_count.head()"
   ]
  },
  {
   "cell_type": "code",
   "execution_count": 38,
   "metadata": {},
   "outputs": [
    {
     "data": {
      "text/plain": [
       "1517"
      ]
     },
     "execution_count": 38,
     "metadata": {},
     "output_type": "execute_result"
    }
   ],
   "source": [
    "ratings_mean_count['rating_counts'].max()"
   ]
  },
  {
   "cell_type": "code",
   "execution_count": 39,
   "metadata": {},
   "outputs": [
    {
     "data": {
      "text/plain": [
       "<matplotlib.axes._subplots.AxesSubplot at 0x1bf1b2c8>"
      ]
     },
     "execution_count": 39,
     "metadata": {},
     "output_type": "execute_result"
    },
    {
     "data": {
      "image/png": "[encoded data removed]",
      "text/plain": [
       "<Figure size 576x432 with 1 Axes>"
      ]
     },
     "metadata": {
      "needs_background": "light"
     },
     "output_type": "display_data"
    }
   ],
   "source": [
    "plt.figure(figsize=(8,6))\n",
    "plt.rcParams['patch.force_edgecolor'] = True\n",
    "ratings_mean_count['rating_counts'].hist(bins=50)"
   ]
  },
  {
   "cell_type": "code",
   "execution_count": 40,
   "metadata": {},
   "outputs": [
    {
     "data": {
      "text/plain": [
       "<matplotlib.axes._subplots.AxesSubplot at 0x6a06de88>"
      ]
     },
     "execution_count": 40,
     "metadata": {},
     "output_type": "execute_result"
    },
    {
     "data": {
      "image/png": "[encoded data removed]",
      "text/plain": [
       "<Figure size 576x432 with 1 Axes>"
      ]
     },
     "metadata": {
      "needs_background": "light"
     },
     "output_type": "display_data"
    }
   ],
   "source": [
    "plt.figure(figsize=(8,6))\n",
    "plt.rcParams['patch.force_edgecolor'] = True\n",
    "ratings_mean_count['rating'].hist(bins=50)"
   ]
  },
  {
   "cell_type": "code",
   "execution_count": 41,
   "metadata": {},
   "outputs": [
    {
     "data": {
      "text/plain": [
       "<seaborn.axisgrid.JointGrid at 0x6a1986c8>"
      ]
     },
     "execution_count": 41,
     "metadata": {},
     "output_type": "execute_result"
    },
    {
     "data": {
      "text/plain": [
       "<Figure size 576x432 with 0 Axes>"
      ]
     },
     "metadata": {},
     "output_type": "display_data"
    },
    {
     "data": {
      "image/png": "[encoded data removed]",
      "text/plain": [
       "<Figure size 432x432 with 3 Axes>"
      ]
     },
     "metadata": {
      "needs_background": "light"
     },
     "output_type": "display_data"
    }
   ],
   "source": [
    "plt.figure(figsize=(8,6))\n",
    "plt.rcParams['patch.force_edgecolor'] = True\n",
    "sns.jointplot(x='rating', y='rating_counts', data=ratings_mean_count, alpha=0.4)"
   ]
  },
  {
   "cell_type": "code",
   "execution_count": 42,
   "metadata": {},
   "outputs": [
    {
     "data": {
      "text/plain": [
       "<matplotlib.axes._subplots.AxesSubplot at 0x96ed3708>"
      ]
     },
     "execution_count": 42,
     "metadata": {},
     "output_type": "execute_result"
    },
    {
     "data": {
      "image/png": "[encoded data removed]",
      "text/plain": [
       "<Figure size 432x288 with 1 Axes>"
      ]
     },
     "metadata": {
      "needs_background": "light"
     },
     "output_type": "display_data"
    }
   ],
   "source": [
    "popular_books = pd.DataFrame(new_df.groupby('book_id')['rating'].count())\n",
    "most_popular = popular_books.sort_values('rating', ascending=False)\n",
    "most_popular.head(30).plot(kind = \"bar\")"
   ]
  },
  {
   "cell_type": "markdown",
   "metadata": {},
   "source": [
    "## Model-based collaborative filtering system"
   ]
  },
  {
   "cell_type": "code",
   "execution_count": 64,
   "metadata": {},
   "outputs": [
    {
     "data": {
      "text/html": [
       "<div>\n",
       "<style scoped>\n",
       "    .dataframe tbody tr th:only-of-type {\n",
       "        vertical-align: middle;\n",
       "    }\n",
       "\n",
       "    .dataframe tbody tr th {\n",
       "        vertical-align: top;\n",
       "    }\n",
       "\n",
       "    .dataframe thead th {\n",
       "        text-align: right;\n",
       "    }\n",
       "</style>\n",
       "<table border=\"1\" class=\"dataframe\">\n",
       "  <thead>\n",
       "    <tr style=\"text-align: right;\">\n",
       "      <th></th>\n",
       "      <th>user_id</th>\n",
       "      <th>book_id</th>\n",
       "      <th>date_added</th>\n",
       "      <th>n_votes</th>\n",
       "      <th>n_comments</th>\n",
       "      <th>spoil</th>\n",
       "      <th>review_text_tokens</th>\n",
       "      <th>rating</th>\n",
       "    </tr>\n",
       "    <tr>\n",
       "      <th>review_id</th>\n",
       "      <th></th>\n",
       "      <th></th>\n",
       "      <th></th>\n",
       "      <th></th>\n",
       "      <th></th>\n",
       "      <th></th>\n",
       "      <th></th>\n",
       "      <th></th>\n",
       "    </tr>\n",
       "  </thead>\n",
       "  <tbody>\n",
       "    <tr>\n",
       "      <th>2c30cadfee9ebc276999f0cdda3de32e</th>\n",
       "      <td>aca760854b57ce2ec981df32e46dc96c</td>\n",
       "      <td>13526165</td>\n",
       "      <td>Mon Jul 03 19:37:38 -0700 2017</td>\n",
       "      <td>7</td>\n",
       "      <td>0</td>\n",
       "      <td>False</td>\n",
       "      <td>quirky pretty good confused first thought funn...</td>\n",
       "      <td>3</td>\n",
       "    </tr>\n",
       "    <tr>\n",
       "      <th>cbc0495e331e5e769c3af501865463ad</th>\n",
       "      <td>1a18545e0bf07492a69ddfb430e090bb</td>\n",
       "      <td>17465574</td>\n",
       "      <td>Sun Mar 15 12:02:41 -0700 2015</td>\n",
       "      <td>0</td>\n",
       "      <td>0</td>\n",
       "      <td>False</td>\n",
       "      <td>love love love loved book every scene resonate...</td>\n",
       "      <td>5</td>\n",
       "    </tr>\n",
       "    <tr>\n",
       "      <th>29215e4d1e14c2b298fa7ef073bca30b</th>\n",
       "      <td>a9750d56107b6757cd89cbe959f33d9f</td>\n",
       "      <td>31451174</td>\n",
       "      <td>Thu Jun 15 12:59:05 -0700 2017</td>\n",
       "      <td>6</td>\n",
       "      <td>0</td>\n",
       "      <td>False</td>\n",
       "      <td>rating minor spoiler spoiler book event previo...</td>\n",
       "      <td>5</td>\n",
       "    </tr>\n",
       "    <tr>\n",
       "      <th>8bdc6f517acf253668be798890cf5ff6</th>\n",
       "      <td>7098fa964f826d4674736b8caa8a41f6</td>\n",
       "      <td>16101128</td>\n",
       "      <td>Wed Sep 24 20:45:02 -0700 2014</td>\n",
       "      <td>0</td>\n",
       "      <td>0</td>\n",
       "      <td>False</td>\n",
       "      <td>rid earth human rid human humanity like book l...</td>\n",
       "      <td>4</td>\n",
       "    </tr>\n",
       "    <tr>\n",
       "      <th>1f9de42e11849dc8e90fe32ddcda15a3</th>\n",
       "      <td>babc631ce1f8d2deab56f65cee762062</td>\n",
       "      <td>15702268</td>\n",
       "      <td>Thu Nov 01 21:23:56 -0700 2012</td>\n",
       "      <td>4</td>\n",
       "      <td>0</td>\n",
       "      <td>False</td>\n",
       "      <td>sarah despises lord hugh altercation family ul...</td>\n",
       "      <td>5</td>\n",
       "    </tr>\n",
       "  </tbody>\n",
       "</table>\n",
       "</div>"
      ],
      "text/plain": [
       "                                                           user_id   book_id  \\\n",
       "review_id                                                                      \n",
       "2c30cadfee9ebc276999f0cdda3de32e  aca760854b57ce2ec981df32e46dc96c  13526165   \n",
       "cbc0495e331e5e769c3af501865463ad  1a18545e0bf07492a69ddfb430e090bb  17465574   \n",
       "29215e4d1e14c2b298fa7ef073bca30b  a9750d56107b6757cd89cbe959f33d9f  31451174   \n",
       "8bdc6f517acf253668be798890cf5ff6  7098fa964f826d4674736b8caa8a41f6  16101128   \n",
       "1f9de42e11849dc8e90fe32ddcda15a3  babc631ce1f8d2deab56f65cee762062  15702268   \n",
       "\n",
       "                                                      date_added  n_votes  \\\n",
       "review_id                                                                   \n",
       "2c30cadfee9ebc276999f0cdda3de32e  Mon Jul 03 19:37:38 -0700 2017        7   \n",
       "cbc0495e331e5e769c3af501865463ad  Sun Mar 15 12:02:41 -0700 2015        0   \n",
       "29215e4d1e14c2b298fa7ef073bca30b  Thu Jun 15 12:59:05 -0700 2017        6   \n",
       "8bdc6f517acf253668be798890cf5ff6  Wed Sep 24 20:45:02 -0700 2014        0   \n",
       "1f9de42e11849dc8e90fe32ddcda15a3  Thu Nov 01 21:23:56 -0700 2012        4   \n",
       "\n",
       "                                  n_comments  spoil  \\\n",
       "review_id                                             \n",
       "2c30cadfee9ebc276999f0cdda3de32e           0  False   \n",
       "cbc0495e331e5e769c3af501865463ad           0  False   \n",
       "29215e4d1e14c2b298fa7ef073bca30b           0  False   \n",
       "8bdc6f517acf253668be798890cf5ff6           0  False   \n",
       "1f9de42e11849dc8e90fe32ddcda15a3           0  False   \n",
       "\n",
       "                                                                 review_text_tokens  \\\n",
       "review_id                                                                             \n",
       "2c30cadfee9ebc276999f0cdda3de32e  quirky pretty good confused first thought funn...   \n",
       "cbc0495e331e5e769c3af501865463ad  love love love loved book every scene resonate...   \n",
       "29215e4d1e14c2b298fa7ef073bca30b  rating minor spoiler spoiler book event previo...   \n",
       "8bdc6f517acf253668be798890cf5ff6  rid earth human rid human humanity like book l...   \n",
       "1f9de42e11849dc8e90fe32ddcda15a3  sarah despises lord hugh altercation family ul...   \n",
       "\n",
       "                                  rating  \n",
       "review_id                                 \n",
       "2c30cadfee9ebc276999f0cdda3de32e       3  \n",
       "cbc0495e331e5e769c3af501865463ad       5  \n",
       "29215e4d1e14c2b298fa7ef073bca30b       5  \n",
       "8bdc6f517acf253668be798890cf5ff6       4  \n",
       "1f9de42e11849dc8e90fe32ddcda15a3       5  "
      ]
     },
     "execution_count": 64,
     "metadata": {},
     "output_type": "execute_result"
    }
   ],
   "source": [
    "new_df1=new_df.copy()\n",
    "new_df1.head()"
   ]
  },
  {
   "cell_type": "code",
   "execution_count": 65,
   "metadata": {},
   "outputs": [
    {
     "data": {
      "text/html": [
       "<div>\n",
       "<style scoped>\n",
       "    .dataframe tbody tr th:only-of-type {\n",
       "        vertical-align: middle;\n",
       "    }\n",
       "\n",
       "    .dataframe tbody tr th {\n",
       "        vertical-align: top;\n",
       "    }\n",
       "\n",
       "    .dataframe thead th {\n",
       "        text-align: right;\n",
       "    }\n",
       "</style>\n",
       "<table border=\"1\" class=\"dataframe\">\n",
       "  <thead>\n",
       "    <tr style=\"text-align: right;\">\n",
       "      <th></th>\n",
       "      <th>review_id</th>\n",
       "      <th>user_id</th>\n",
       "      <th>book_id</th>\n",
       "      <th>date_added</th>\n",
       "      <th>n_votes</th>\n",
       "      <th>n_comments</th>\n",
       "      <th>spoil</th>\n",
       "      <th>review_text_tokens</th>\n",
       "      <th>rating</th>\n",
       "    </tr>\n",
       "  </thead>\n",
       "  <tbody>\n",
       "    <tr>\n",
       "      <th>0</th>\n",
       "      <td>2c30cadfee9ebc276999f0cdda3de32e</td>\n",
       "      <td>aca760854b57ce2ec981df32e46dc96c</td>\n",
       "      <td>13526165</td>\n",
       "      <td>Mon Jul 03 19:37:38 -0700 2017</td>\n",
       "      <td>7</td>\n",
       "      <td>0</td>\n",
       "      <td>False</td>\n",
       "      <td>quirky pretty good confused first thought funn...</td>\n",
       "      <td>3</td>\n",
       "    </tr>\n",
       "    <tr>\n",
       "      <th>1</th>\n",
       "      <td>cbc0495e331e5e769c3af501865463ad</td>\n",
       "      <td>1a18545e0bf07492a69ddfb430e090bb</td>\n",
       "      <td>17465574</td>\n",
       "      <td>Sun Mar 15 12:02:41 -0700 2015</td>\n",
       "      <td>0</td>\n",
       "      <td>0</td>\n",
       "      <td>False</td>\n",
       "      <td>love love love loved book every scene resonate...</td>\n",
       "      <td>5</td>\n",
       "    </tr>\n",
       "    <tr>\n",
       "      <th>2</th>\n",
       "      <td>29215e4d1e14c2b298fa7ef073bca30b</td>\n",
       "      <td>a9750d56107b6757cd89cbe959f33d9f</td>\n",
       "      <td>31451174</td>\n",
       "      <td>Thu Jun 15 12:59:05 -0700 2017</td>\n",
       "      <td>6</td>\n",
       "      <td>0</td>\n",
       "      <td>False</td>\n",
       "      <td>rating minor spoiler spoiler book event previo...</td>\n",
       "      <td>5</td>\n",
       "    </tr>\n",
       "    <tr>\n",
       "      <th>3</th>\n",
       "      <td>8bdc6f517acf253668be798890cf5ff6</td>\n",
       "      <td>7098fa964f826d4674736b8caa8a41f6</td>\n",
       "      <td>16101128</td>\n",
       "      <td>Wed Sep 24 20:45:02 -0700 2014</td>\n",
       "      <td>0</td>\n",
       "      <td>0</td>\n",
       "      <td>False</td>\n",
       "      <td>rid earth human rid human humanity like book l...</td>\n",
       "      <td>4</td>\n",
       "    </tr>\n",
       "    <tr>\n",
       "      <th>4</th>\n",
       "      <td>1f9de42e11849dc8e90fe32ddcda15a3</td>\n",
       "      <td>babc631ce1f8d2deab56f65cee762062</td>\n",
       "      <td>15702268</td>\n",
       "      <td>Thu Nov 01 21:23:56 -0700 2012</td>\n",
       "      <td>4</td>\n",
       "      <td>0</td>\n",
       "      <td>False</td>\n",
       "      <td>sarah despises lord hugh altercation family ul...</td>\n",
       "      <td>5</td>\n",
       "    </tr>\n",
       "  </tbody>\n",
       "</table>\n",
       "</div>"
      ],
      "text/plain": [
       "                          review_id                           user_id  \\\n",
       "0  2c30cadfee9ebc276999f0cdda3de32e  aca760854b57ce2ec981df32e46dc96c   \n",
       "1  cbc0495e331e5e769c3af501865463ad  1a18545e0bf07492a69ddfb430e090bb   \n",
       "2  29215e4d1e14c2b298fa7ef073bca30b  a9750d56107b6757cd89cbe959f33d9f   \n",
       "3  8bdc6f517acf253668be798890cf5ff6  7098fa964f826d4674736b8caa8a41f6   \n",
       "4  1f9de42e11849dc8e90fe32ddcda15a3  babc631ce1f8d2deab56f65cee762062   \n",
       "\n",
       "    book_id                      date_added  n_votes  n_comments  spoil  \\\n",
       "0  13526165  Mon Jul 03 19:37:38 -0700 2017        7           0  False   \n",
       "1  17465574  Sun Mar 15 12:02:41 -0700 2015        0           0  False   \n",
       "2  31451174  Thu Jun 15 12:59:05 -0700 2017        6           0  False   \n",
       "3  16101128  Wed Sep 24 20:45:02 -0700 2014        0           0  False   \n",
       "4  15702268  Thu Nov 01 21:23:56 -0700 2012        4           0  False   \n",
       "\n",
       "                                  review_text_tokens  rating  \n",
       "0  quirky pretty good confused first thought funn...       3  \n",
       "1  love love love loved book every scene resonate...       5  \n",
       "2  rating minor spoiler spoiler book event previo...       5  \n",
       "3  rid earth human rid human humanity like book l...       4  \n",
       "4  sarah despises lord hugh altercation family ul...       5  "
      ]
     },
     "execution_count": 65,
     "metadata": {},
     "output_type": "execute_result"
    }
   ],
   "source": [
    "df1=new_df1.reset_index()\n",
    "df1.head()"
   ]
  },
  {
   "cell_type": "code",
   "execution_count": 66,
   "metadata": {},
   "outputs": [
    {
     "data": {
      "text/plain": [
       "Index(['review_id', 'user_id', 'book_id', 'date_added', 'n_votes',\n",
       "       'n_comments', 'spoil', 'review_text_tokens', 'rating'],\n",
       "      dtype='object')"
      ]
     },
     "execution_count": 66,
     "metadata": {},
     "output_type": "execute_result"
    }
   ],
   "source": [
    "df1.columns"
   ]
  },
  {
   "cell_type": "code",
   "execution_count": 67,
   "metadata": {},
   "outputs": [],
   "source": [
    "df1=df1.drop(columns=['review_id','user_id','date_added','n_votes','n_comments', 'spoil' ],axis=1)"
   ]
  },
  {
   "cell_type": "code",
   "execution_count": 69,
   "metadata": {},
   "outputs": [
    {
     "data": {
      "text/plain": [
       "(5000, 3)"
      ]
     },
     "execution_count": 69,
     "metadata": {},
     "output_type": "execute_result"
    }
   ],
   "source": [
    "df1=df1.sample(5000)\n",
    "df1.shape"
   ]
  },
  {
   "cell_type": "code",
   "execution_count": 70,
   "metadata": {},
   "outputs": [
    {
     "data": {
      "text/html": [
       "<div>\n",
       "<style scoped>\n",
       "    .dataframe tbody tr th:only-of-type {\n",
       "        vertical-align: middle;\n",
       "    }\n",
       "\n",
       "    .dataframe tbody tr th {\n",
       "        vertical-align: top;\n",
       "    }\n",
       "\n",
       "    .dataframe thead th {\n",
       "        text-align: right;\n",
       "    }\n",
       "</style>\n",
       "<table border=\"1\" class=\"dataframe\">\n",
       "  <thead>\n",
       "    <tr style=\"text-align: right;\">\n",
       "      <th></th>\n",
       "      <th>book_id</th>\n",
       "      <th>review_text_tokens</th>\n",
       "      <th>rating</th>\n",
       "    </tr>\n",
       "  </thead>\n",
       "  <tbody>\n",
       "    <tr>\n",
       "      <th>120068</th>\n",
       "      <td>136251</td>\n",
       "      <td>thank god would say major part book lurking ar...</td>\n",
       "      <td>2</td>\n",
       "    </tr>\n",
       "    <tr>\n",
       "      <th>312842</th>\n",
       "      <td>17333319</td>\n",
       "      <td>quality mercy haunting heartbreaking story agn...</td>\n",
       "      <td>5</td>\n",
       "    </tr>\n",
       "    <tr>\n",
       "      <th>100721</th>\n",
       "      <td>15745753</td>\n",
       "      <td>even know rating emotion</td>\n",
       "      <td>4</td>\n",
       "    </tr>\n",
       "    <tr>\n",
       "      <th>265588</th>\n",
       "      <td>248483</td>\n",
       "      <td>genre chick lit real life obsession dream vaca...</td>\n",
       "      <td>3</td>\n",
       "    </tr>\n",
       "    <tr>\n",
       "      <th>177509</th>\n",
       "      <td>12954620</td>\n",
       "      <td>read http bookreviewsfrommarie wordpres star a...</td>\n",
       "      <td>5</td>\n",
       "    </tr>\n",
       "  </tbody>\n",
       "</table>\n",
       "</div>"
      ],
      "text/plain": [
       "         book_id                                 review_text_tokens  rating\n",
       "120068    136251  thank god would say major part book lurking ar...       2\n",
       "312842  17333319  quality mercy haunting heartbreaking story agn...       5\n",
       "100721  15745753                           even know rating emotion       4\n",
       "265588    248483  genre chick lit real life obsession dream vaca...       3\n",
       "177509  12954620  read http bookreviewsfrommarie wordpres star a...       5"
      ]
     },
     "execution_count": 70,
     "metadata": {},
     "output_type": "execute_result"
    }
   ],
   "source": [
    "df1.head()"
   ]
  },
  {
   "cell_type": "code",
   "execution_count": 71,
   "metadata": {},
   "outputs": [],
   "source": [
    "df3=df1.reset_index()\n",
    "df3.rename(columns={'index':'label'},inplace=True)"
   ]
  },
  {
   "cell_type": "code",
   "execution_count": 72,
   "metadata": {},
   "outputs": [
    {
     "data": {
      "text/html": [
       "<div>\n",
       "<style scoped>\n",
       "    .dataframe tbody tr th:only-of-type {\n",
       "        vertical-align: middle;\n",
       "    }\n",
       "\n",
       "    .dataframe tbody tr th {\n",
       "        vertical-align: top;\n",
       "    }\n",
       "\n",
       "    .dataframe thead th {\n",
       "        text-align: right;\n",
       "    }\n",
       "</style>\n",
       "<table border=\"1\" class=\"dataframe\">\n",
       "  <thead>\n",
       "    <tr style=\"text-align: right;\">\n",
       "      <th></th>\n",
       "      <th>book_id</th>\n",
       "      <th>review_text_tokens</th>\n",
       "      <th>rating</th>\n",
       "    </tr>\n",
       "  </thead>\n",
       "  <tbody>\n",
       "    <tr>\n",
       "      <th>0</th>\n",
       "      <td>136251</td>\n",
       "      <td>thank god would say major part book lurking ar...</td>\n",
       "      <td>2</td>\n",
       "    </tr>\n",
       "    <tr>\n",
       "      <th>1</th>\n",
       "      <td>17333319</td>\n",
       "      <td>quality mercy haunting heartbreaking story agn...</td>\n",
       "      <td>5</td>\n",
       "    </tr>\n",
       "    <tr>\n",
       "      <th>2</th>\n",
       "      <td>15745753</td>\n",
       "      <td>even know rating emotion</td>\n",
       "      <td>4</td>\n",
       "    </tr>\n",
       "    <tr>\n",
       "      <th>3</th>\n",
       "      <td>248483</td>\n",
       "      <td>genre chick lit real life obsession dream vaca...</td>\n",
       "      <td>3</td>\n",
       "    </tr>\n",
       "    <tr>\n",
       "      <th>4</th>\n",
       "      <td>12954620</td>\n",
       "      <td>read http bookreviewsfrommarie wordpres star a...</td>\n",
       "      <td>5</td>\n",
       "    </tr>\n",
       "  </tbody>\n",
       "</table>\n",
       "</div>"
      ],
      "text/plain": [
       "    book_id                                 review_text_tokens  rating\n",
       "0    136251  thank god would say major part book lurking ar...       2\n",
       "1  17333319  quality mercy haunting heartbreaking story agn...       5\n",
       "2  15745753                           even know rating emotion       4\n",
       "3    248483  genre chick lit real life obsession dream vaca...       3\n",
       "4  12954620  read http bookreviewsfrommarie wordpres star a...       5"
      ]
     },
     "execution_count": 72,
     "metadata": {},
     "output_type": "execute_result"
    }
   ],
   "source": [
    "df3.drop(columns='label',inplace=True)\n",
    "df3.head()"
   ]
  },
  {
   "cell_type": "code",
   "execution_count": 74,
   "metadata": {},
   "outputs": [],
   "source": [
    "from sklearn.feature_extraction.text import CountVectorizer\n",
    "cv = CountVectorizer(max_features=5000,stop_words='english')"
   ]
  },
  {
   "cell_type": "code",
   "execution_count": 75,
   "metadata": {},
   "outputs": [],
   "source": [
    "# tfidf_vectorizer = TfidfVectorizer(use_idf=True,max_features=5000)\n",
    "\n",
    "# new_df1_vectors = tfidf_vectorizer.fit_transform(new_df1['review_text_tokens']) \n",
    "# X_val_vectors = tfidf_vectorizer.transform(X_val)"
   ]
  },
  {
   "cell_type": "code",
   "execution_count": 76,
   "metadata": {},
   "outputs": [],
   "source": [
    "vector = cv.fit_transform(df3['review_text_tokens']).toarray()"
   ]
  },
  {
   "cell_type": "code",
   "execution_count": 77,
   "metadata": {},
   "outputs": [
    {
     "data": {
      "text/plain": [
       "(5000, 5000)"
      ]
     },
     "execution_count": 77,
     "metadata": {},
     "output_type": "execute_result"
    }
   ],
   "source": [
    "vector.shape"
   ]
  },
  {
   "cell_type": "code",
   "execution_count": 78,
   "metadata": {},
   "outputs": [],
   "source": [
    "from sklearn.metrics.pairwise import cosine_similarity"
   ]
  },
  {
   "cell_type": "code",
   "execution_count": 79,
   "metadata": {},
   "outputs": [
    {
     "data": {
      "text/plain": [
       "array([[1.        , 0.12335879, 0.        , ..., 0.15534244, 0.08359173,\n",
       "        0.08451543],\n",
       "       [0.12335879, 1.        , 0.0269191 , ..., 0.21462398, 0.11686678,\n",
       "        0.17376201],\n",
       "       [0.        , 0.0269191 , 1.        , ..., 0.        , 0.        ,\n",
       "        0.        ],\n",
       "       ...,\n",
       "       [0.15534244, 0.21462398, 0.        , ..., 1.        , 0.26663239,\n",
       "        0.24507154],\n",
       "       [0.08359173, 0.11686678, 0.        , ..., 0.26663239, 1.        ,\n",
       "        0.13187609],\n",
       "       [0.08451543, 0.17376201, 0.        , ..., 0.24507154, 0.13187609,\n",
       "        1.        ]])"
      ]
     },
     "execution_count": 79,
     "metadata": {},
     "output_type": "execute_result"
    }
   ],
   "source": [
    "similarity = cosine_similarity(vector)\n",
    "similarity"
   ]
  },
  {
   "cell_type": "code",
   "execution_count": 80,
   "metadata": {},
   "outputs": [
    {
     "data": {
      "text/plain": [
       "2905"
      ]
     },
     "execution_count": 80,
     "metadata": {},
     "output_type": "execute_result"
    }
   ],
   "source": [
    "df3[df3['book_id'] ==1828067].index[0]"
   ]
  },
  {
   "cell_type": "code",
   "execution_count": 81,
   "metadata": {},
   "outputs": [],
   "source": [
    "def recommend(book):\n",
    "    index = df3[df3['book_id'] == book].index[0]\n",
    "    distances = sorted(list(enumerate(similarity[index])),reverse=True,key = lambda x: x[1])\n",
    "    for i in distances[1:6]:\n",
    "        print(df3.iloc[i[0]]['book_id'])\n",
    "        "
   ]
  },
  {
   "cell_type": "code",
   "execution_count": 82,
   "metadata": {},
   "outputs": [
    {
     "name": "stdout",
     "output_type": "stream",
     "text": [
      "22888864\n",
      "7488244\n",
      "11870085\n",
      "8709523\n",
      "16160797\n"
     ]
    }
   ],
   "source": [
    "recommend(1828067)"
   ]
  },
  {
   "cell_type": "code",
   "execution_count": 83,
   "metadata": {},
   "outputs": [],
   "source": [
    "pickle.dump(df3.to_dict(),open('books_id_dict.pkl','wb') )"
   ]
  },
  {
   "cell_type": "code",
   "execution_count": 84,
   "metadata": {},
   "outputs": [],
   "source": [
    "pickle.dump(similarity,open('similarity.pkl','wb'))"
   ]
  },
  {
   "cell_type": "markdown",
   "metadata": {},
   "source": [
    "## Model-based collaborative filtering system"
   ]
  },
  {
   "cell_type": "code",
   "execution_count": 67,
   "metadata": {},
   "outputs": [
    {
     "data": {
      "text/html": [
       "<div>\n",
       "<style scoped>\n",
       "    .dataframe tbody tr th:only-of-type {\n",
       "        vertical-align: middle;\n",
       "    }\n",
       "\n",
       "    .dataframe tbody tr th {\n",
       "        vertical-align: top;\n",
       "    }\n",
       "\n",
       "    .dataframe thead th {\n",
       "        text-align: right;\n",
       "    }\n",
       "</style>\n",
       "<table border=\"1\" class=\"dataframe\">\n",
       "  <thead>\n",
       "    <tr style=\"text-align: right;\">\n",
       "      <th>book_id</th>\n",
       "      <th>1</th>\n",
       "      <th>2</th>\n",
       "      <th>3</th>\n",
       "      <th>5</th>\n",
       "      <th>6</th>\n",
       "      <th>11</th>\n",
       "      <th>34</th>\n",
       "      <th>343</th>\n",
       "      <th>350</th>\n",
       "      <th>365</th>\n",
       "      <th>...</th>\n",
       "      <th>33838194</th>\n",
       "      <th>33843362</th>\n",
       "      <th>34044126</th>\n",
       "      <th>34076952</th>\n",
       "      <th>34234022</th>\n",
       "      <th>34273458</th>\n",
       "      <th>34454739</th>\n",
       "      <th>34776338</th>\n",
       "      <th>35247769</th>\n",
       "      <th>35404657</th>\n",
       "    </tr>\n",
       "    <tr>\n",
       "      <th>user_id</th>\n",
       "      <th></th>\n",
       "      <th></th>\n",
       "      <th></th>\n",
       "      <th></th>\n",
       "      <th></th>\n",
       "      <th></th>\n",
       "      <th></th>\n",
       "      <th></th>\n",
       "      <th></th>\n",
       "      <th></th>\n",
       "      <th></th>\n",
       "      <th></th>\n",
       "      <th></th>\n",
       "      <th></th>\n",
       "      <th></th>\n",
       "      <th></th>\n",
       "      <th></th>\n",
       "      <th></th>\n",
       "      <th></th>\n",
       "      <th></th>\n",
       "      <th></th>\n",
       "    </tr>\n",
       "  </thead>\n",
       "  <tbody>\n",
       "    <tr>\n",
       "      <th>0019de4561419b7543238e0979f2f33e</th>\n",
       "      <td>0</td>\n",
       "      <td>0</td>\n",
       "      <td>0</td>\n",
       "      <td>0</td>\n",
       "      <td>0</td>\n",
       "      <td>0</td>\n",
       "      <td>0</td>\n",
       "      <td>0</td>\n",
       "      <td>0</td>\n",
       "      <td>0</td>\n",
       "      <td>...</td>\n",
       "      <td>0</td>\n",
       "      <td>0</td>\n",
       "      <td>0</td>\n",
       "      <td>0</td>\n",
       "      <td>0</td>\n",
       "      <td>0</td>\n",
       "      <td>0</td>\n",
       "      <td>0</td>\n",
       "      <td>0</td>\n",
       "      <td>0</td>\n",
       "    </tr>\n",
       "    <tr>\n",
       "      <th>00204424763e8233c5f53f0729f2304f</th>\n",
       "      <td>0</td>\n",
       "      <td>0</td>\n",
       "      <td>0</td>\n",
       "      <td>0</td>\n",
       "      <td>0</td>\n",
       "      <td>0</td>\n",
       "      <td>0</td>\n",
       "      <td>0</td>\n",
       "      <td>0</td>\n",
       "      <td>0</td>\n",
       "      <td>...</td>\n",
       "      <td>0</td>\n",
       "      <td>0</td>\n",
       "      <td>0</td>\n",
       "      <td>0</td>\n",
       "      <td>0</td>\n",
       "      <td>0</td>\n",
       "      <td>0</td>\n",
       "      <td>0</td>\n",
       "      <td>0</td>\n",
       "      <td>0</td>\n",
       "    </tr>\n",
       "    <tr>\n",
       "      <th>00238d8a4c276c47f5d5e242f54a8f28</th>\n",
       "      <td>0</td>\n",
       "      <td>0</td>\n",
       "      <td>0</td>\n",
       "      <td>0</td>\n",
       "      <td>0</td>\n",
       "      <td>0</td>\n",
       "      <td>0</td>\n",
       "      <td>0</td>\n",
       "      <td>0</td>\n",
       "      <td>0</td>\n",
       "      <td>...</td>\n",
       "      <td>0</td>\n",
       "      <td>0</td>\n",
       "      <td>0</td>\n",
       "      <td>0</td>\n",
       "      <td>0</td>\n",
       "      <td>0</td>\n",
       "      <td>0</td>\n",
       "      <td>0</td>\n",
       "      <td>0</td>\n",
       "      <td>0</td>\n",
       "    </tr>\n",
       "    <tr>\n",
       "      <th>002a023d3de233b4bd3ec4fc3e9c581a</th>\n",
       "      <td>0</td>\n",
       "      <td>0</td>\n",
       "      <td>0</td>\n",
       "      <td>0</td>\n",
       "      <td>0</td>\n",
       "      <td>0</td>\n",
       "      <td>0</td>\n",
       "      <td>0</td>\n",
       "      <td>0</td>\n",
       "      <td>0</td>\n",
       "      <td>...</td>\n",
       "      <td>0</td>\n",
       "      <td>0</td>\n",
       "      <td>0</td>\n",
       "      <td>0</td>\n",
       "      <td>0</td>\n",
       "      <td>0</td>\n",
       "      <td>0</td>\n",
       "      <td>0</td>\n",
       "      <td>0</td>\n",
       "      <td>0</td>\n",
       "    </tr>\n",
       "    <tr>\n",
       "      <th>00608f34a76da8ba3ed37b25f263adf4</th>\n",
       "      <td>0</td>\n",
       "      <td>0</td>\n",
       "      <td>0</td>\n",
       "      <td>0</td>\n",
       "      <td>0</td>\n",
       "      <td>0</td>\n",
       "      <td>0</td>\n",
       "      <td>0</td>\n",
       "      <td>0</td>\n",
       "      <td>0</td>\n",
       "      <td>...</td>\n",
       "      <td>0</td>\n",
       "      <td>0</td>\n",
       "      <td>0</td>\n",
       "      <td>0</td>\n",
       "      <td>0</td>\n",
       "      <td>0</td>\n",
       "      <td>0</td>\n",
       "      <td>0</td>\n",
       "      <td>0</td>\n",
       "      <td>0</td>\n",
       "    </tr>\n",
       "  </tbody>\n",
       "</table>\n",
       "<p>5 rows × 3096 columns</p>\n",
       "</div>"
      ],
      "text/plain": [
       "book_id                           1         2         3         5         \\\n",
       "user_id                                                                    \n",
       "0019de4561419b7543238e0979f2f33e         0         0         0         0   \n",
       "00204424763e8233c5f53f0729f2304f         0         0         0         0   \n",
       "00238d8a4c276c47f5d5e242f54a8f28         0         0         0         0   \n",
       "002a023d3de233b4bd3ec4fc3e9c581a         0         0         0         0   \n",
       "00608f34a76da8ba3ed37b25f263adf4         0         0         0         0   \n",
       "\n",
       "book_id                           6         11        34        343       \\\n",
       "user_id                                                                    \n",
       "0019de4561419b7543238e0979f2f33e         0         0         0         0   \n",
       "00204424763e8233c5f53f0729f2304f         0         0         0         0   \n",
       "00238d8a4c276c47f5d5e242f54a8f28         0         0         0         0   \n",
       "002a023d3de233b4bd3ec4fc3e9c581a         0         0         0         0   \n",
       "00608f34a76da8ba3ed37b25f263adf4         0         0         0         0   \n",
       "\n",
       "book_id                           350       365       ...  33838194  33843362  \\\n",
       "user_id                                               ...                       \n",
       "0019de4561419b7543238e0979f2f33e         0         0  ...         0         0   \n",
       "00204424763e8233c5f53f0729f2304f         0         0  ...         0         0   \n",
       "00238d8a4c276c47f5d5e242f54a8f28         0         0  ...         0         0   \n",
       "002a023d3de233b4bd3ec4fc3e9c581a         0         0  ...         0         0   \n",
       "00608f34a76da8ba3ed37b25f263adf4         0         0  ...         0         0   \n",
       "\n",
       "book_id                           34044126  34076952  34234022  34273458  \\\n",
       "user_id                                                                    \n",
       "0019de4561419b7543238e0979f2f33e         0         0         0         0   \n",
       "00204424763e8233c5f53f0729f2304f         0         0         0         0   \n",
       "00238d8a4c276c47f5d5e242f54a8f28         0         0         0         0   \n",
       "002a023d3de233b4bd3ec4fc3e9c581a         0         0         0         0   \n",
       "00608f34a76da8ba3ed37b25f263adf4         0         0         0         0   \n",
       "\n",
       "book_id                           34454739  34776338  35247769  35404657  \n",
       "user_id                                                                   \n",
       "0019de4561419b7543238e0979f2f33e         0         0         0         0  \n",
       "00204424763e8233c5f53f0729f2304f         0         0         0         0  \n",
       "00238d8a4c276c47f5d5e242f54a8f28         0         0         0         0  \n",
       "002a023d3de233b4bd3ec4fc3e9c581a         0         0         0         0  \n",
       "00608f34a76da8ba3ed37b25f263adf4         0         0         0         0  \n",
       "\n",
       "[5 rows x 3096 columns]"
      ]
     },
     "execution_count": 67,
     "metadata": {},
     "output_type": "execute_result"
    }
   ],
   "source": [
    "new_df1=new_df.head(10000)\n",
    "ratings_matrix = new_df1.pivot_table(values='rating', index='user_id', columns='book_id', fill_value=0)\n",
    "ratings_matrix.head()"
   ]
  },
  {
   "cell_type": "code",
   "execution_count": 68,
   "metadata": {},
   "outputs": [
    {
     "data": {
      "text/plain": [
       "(4969, 3096)"
      ]
     },
     "execution_count": 68,
     "metadata": {},
     "output_type": "execute_result"
    }
   ],
   "source": [
    "ratings_matrix.shape"
   ]
  },
  {
   "cell_type": "code",
   "execution_count": 69,
   "metadata": {},
   "outputs": [
    {
     "data": {
      "text/html": [
       "<div>\n",
       "<style scoped>\n",
       "    .dataframe tbody tr th:only-of-type {\n",
       "        vertical-align: middle;\n",
       "    }\n",
       "\n",
       "    .dataframe tbody tr th {\n",
       "        vertical-align: top;\n",
       "    }\n",
       "\n",
       "    .dataframe thead th {\n",
       "        text-align: right;\n",
       "    }\n",
       "</style>\n",
       "<table border=\"1\" class=\"dataframe\">\n",
       "  <thead>\n",
       "    <tr style=\"text-align: right;\">\n",
       "      <th>user_id</th>\n",
       "      <th>0019de4561419b7543238e0979f2f33e</th>\n",
       "      <th>00204424763e8233c5f53f0729f2304f</th>\n",
       "      <th>00238d8a4c276c47f5d5e242f54a8f28</th>\n",
       "      <th>002a023d3de233b4bd3ec4fc3e9c581a</th>\n",
       "      <th>00608f34a76da8ba3ed37b25f263adf4</th>\n",
       "      <th>006f552534b15a7358a125f7505e0eea</th>\n",
       "      <th>00735b5ea2c10159ae8c571a4a10fa88</th>\n",
       "      <th>0088ac052921fbdad6145c29322f9144</th>\n",
       "      <th>009235f414f42cfd0f76282f6aefe6c1</th>\n",
       "      <th>0094c87e3b8c40fbbf7fe6e796020648</th>\n",
       "      <th>...</th>\n",
       "      <th>ff9232cff314bdd83feace42830f77f1</th>\n",
       "      <th>ff9f7fb61f1663bcc73c7ae147d90aa4</th>\n",
       "      <th>ffa5094acb2bca8fc8655538e60c400e</th>\n",
       "      <th>ffbf525357e96614c4b9ee613aa95caa</th>\n",
       "      <th>ffc8d20661adcdf507572cce8833fdf6</th>\n",
       "      <th>ffd6c966d94d3d06c8cc4480536082b4</th>\n",
       "      <th>ffd8f0635d15905b37ae3ab6743af80c</th>\n",
       "      <th>fff2d524826237f7da79e5ca786c5f48</th>\n",
       "      <th>fff3a250fbc018ad2c2c2d45c86734da</th>\n",
       "      <th>ffff7cafdaf5196383cb2efca08fb6fe</th>\n",
       "    </tr>\n",
       "    <tr>\n",
       "      <th>book_id</th>\n",
       "      <th></th>\n",
       "      <th></th>\n",
       "      <th></th>\n",
       "      <th></th>\n",
       "      <th></th>\n",
       "      <th></th>\n",
       "      <th></th>\n",
       "      <th></th>\n",
       "      <th></th>\n",
       "      <th></th>\n",
       "      <th></th>\n",
       "      <th></th>\n",
       "      <th></th>\n",
       "      <th></th>\n",
       "      <th></th>\n",
       "      <th></th>\n",
       "      <th></th>\n",
       "      <th></th>\n",
       "      <th></th>\n",
       "      <th></th>\n",
       "      <th></th>\n",
       "    </tr>\n",
       "  </thead>\n",
       "  <tbody>\n",
       "    <tr>\n",
       "      <th>1</th>\n",
       "      <td>0</td>\n",
       "      <td>0</td>\n",
       "      <td>0</td>\n",
       "      <td>0</td>\n",
       "      <td>0</td>\n",
       "      <td>0</td>\n",
       "      <td>0</td>\n",
       "      <td>0</td>\n",
       "      <td>0</td>\n",
       "      <td>0</td>\n",
       "      <td>...</td>\n",
       "      <td>0</td>\n",
       "      <td>0</td>\n",
       "      <td>0</td>\n",
       "      <td>0</td>\n",
       "      <td>0</td>\n",
       "      <td>0</td>\n",
       "      <td>0</td>\n",
       "      <td>0</td>\n",
       "      <td>0</td>\n",
       "      <td>0</td>\n",
       "    </tr>\n",
       "    <tr>\n",
       "      <th>2</th>\n",
       "      <td>0</td>\n",
       "      <td>0</td>\n",
       "      <td>0</td>\n",
       "      <td>0</td>\n",
       "      <td>0</td>\n",
       "      <td>0</td>\n",
       "      <td>0</td>\n",
       "      <td>0</td>\n",
       "      <td>0</td>\n",
       "      <td>0</td>\n",
       "      <td>...</td>\n",
       "      <td>0</td>\n",
       "      <td>0</td>\n",
       "      <td>0</td>\n",
       "      <td>0</td>\n",
       "      <td>0</td>\n",
       "      <td>0</td>\n",
       "      <td>0</td>\n",
       "      <td>0</td>\n",
       "      <td>0</td>\n",
       "      <td>0</td>\n",
       "    </tr>\n",
       "    <tr>\n",
       "      <th>3</th>\n",
       "      <td>0</td>\n",
       "      <td>0</td>\n",
       "      <td>0</td>\n",
       "      <td>0</td>\n",
       "      <td>0</td>\n",
       "      <td>0</td>\n",
       "      <td>0</td>\n",
       "      <td>0</td>\n",
       "      <td>0</td>\n",
       "      <td>0</td>\n",
       "      <td>...</td>\n",
       "      <td>0</td>\n",
       "      <td>0</td>\n",
       "      <td>0</td>\n",
       "      <td>0</td>\n",
       "      <td>0</td>\n",
       "      <td>0</td>\n",
       "      <td>0</td>\n",
       "      <td>0</td>\n",
       "      <td>0</td>\n",
       "      <td>0</td>\n",
       "    </tr>\n",
       "    <tr>\n",
       "      <th>5</th>\n",
       "      <td>0</td>\n",
       "      <td>0</td>\n",
       "      <td>0</td>\n",
       "      <td>0</td>\n",
       "      <td>0</td>\n",
       "      <td>0</td>\n",
       "      <td>0</td>\n",
       "      <td>0</td>\n",
       "      <td>0</td>\n",
       "      <td>0</td>\n",
       "      <td>...</td>\n",
       "      <td>0</td>\n",
       "      <td>0</td>\n",
       "      <td>0</td>\n",
       "      <td>0</td>\n",
       "      <td>0</td>\n",
       "      <td>0</td>\n",
       "      <td>0</td>\n",
       "      <td>0</td>\n",
       "      <td>0</td>\n",
       "      <td>0</td>\n",
       "    </tr>\n",
       "    <tr>\n",
       "      <th>6</th>\n",
       "      <td>0</td>\n",
       "      <td>0</td>\n",
       "      <td>0</td>\n",
       "      <td>0</td>\n",
       "      <td>0</td>\n",
       "      <td>0</td>\n",
       "      <td>0</td>\n",
       "      <td>0</td>\n",
       "      <td>0</td>\n",
       "      <td>0</td>\n",
       "      <td>...</td>\n",
       "      <td>0</td>\n",
       "      <td>0</td>\n",
       "      <td>0</td>\n",
       "      <td>0</td>\n",
       "      <td>0</td>\n",
       "      <td>0</td>\n",
       "      <td>0</td>\n",
       "      <td>0</td>\n",
       "      <td>0</td>\n",
       "      <td>0</td>\n",
       "    </tr>\n",
       "  </tbody>\n",
       "</table>\n",
       "<p>5 rows × 4969 columns</p>\n",
       "</div>"
      ],
      "text/plain": [
       "user_id  0019de4561419b7543238e0979f2f33e  00204424763e8233c5f53f0729f2304f  \\\n",
       "book_id                                                                       \n",
       "1                                       0                                 0   \n",
       "2                                       0                                 0   \n",
       "3                                       0                                 0   \n",
       "5                                       0                                 0   \n",
       "6                                       0                                 0   \n",
       "\n",
       "user_id  00238d8a4c276c47f5d5e242f54a8f28  002a023d3de233b4bd3ec4fc3e9c581a  \\\n",
       "book_id                                                                       \n",
       "1                                       0                                 0   \n",
       "2                                       0                                 0   \n",
       "3                                       0                                 0   \n",
       "5                                       0                                 0   \n",
       "6                                       0                                 0   \n",
       "\n",
       "user_id  00608f34a76da8ba3ed37b25f263adf4  006f552534b15a7358a125f7505e0eea  \\\n",
       "book_id                                                                       \n",
       "1                                       0                                 0   \n",
       "2                                       0                                 0   \n",
       "3                                       0                                 0   \n",
       "5                                       0                                 0   \n",
       "6                                       0                                 0   \n",
       "\n",
       "user_id  00735b5ea2c10159ae8c571a4a10fa88  0088ac052921fbdad6145c29322f9144  \\\n",
       "book_id                                                                       \n",
       "1                                       0                                 0   \n",
       "2                                       0                                 0   \n",
       "3                                       0                                 0   \n",
       "5                                       0                                 0   \n",
       "6                                       0                                 0   \n",
       "\n",
       "user_id  009235f414f42cfd0f76282f6aefe6c1  0094c87e3b8c40fbbf7fe6e796020648  \\\n",
       "book_id                                                                       \n",
       "1                                       0                                 0   \n",
       "2                                       0                                 0   \n",
       "3                                       0                                 0   \n",
       "5                                       0                                 0   \n",
       "6                                       0                                 0   \n",
       "\n",
       "user_id  ...  ff9232cff314bdd83feace42830f77f1  \\\n",
       "book_id  ...                                     \n",
       "1        ...                                 0   \n",
       "2        ...                                 0   \n",
       "3        ...                                 0   \n",
       "5        ...                                 0   \n",
       "6        ...                                 0   \n",
       "\n",
       "user_id  ff9f7fb61f1663bcc73c7ae147d90aa4  ffa5094acb2bca8fc8655538e60c400e  \\\n",
       "book_id                                                                       \n",
       "1                                       0                                 0   \n",
       "2                                       0                                 0   \n",
       "3                                       0                                 0   \n",
       "5                                       0                                 0   \n",
       "6                                       0                                 0   \n",
       "\n",
       "user_id  ffbf525357e96614c4b9ee613aa95caa  ffc8d20661adcdf507572cce8833fdf6  \\\n",
       "book_id                                                                       \n",
       "1                                       0                                 0   \n",
       "2                                       0                                 0   \n",
       "3                                       0                                 0   \n",
       "5                                       0                                 0   \n",
       "6                                       0                                 0   \n",
       "\n",
       "user_id  ffd6c966d94d3d06c8cc4480536082b4  ffd8f0635d15905b37ae3ab6743af80c  \\\n",
       "book_id                                                                       \n",
       "1                                       0                                 0   \n",
       "2                                       0                                 0   \n",
       "3                                       0                                 0   \n",
       "5                                       0                                 0   \n",
       "6                                       0                                 0   \n",
       "\n",
       "user_id  fff2d524826237f7da79e5ca786c5f48  fff3a250fbc018ad2c2c2d45c86734da  \\\n",
       "book_id                                                                       \n",
       "1                                       0                                 0   \n",
       "2                                       0                                 0   \n",
       "3                                       0                                 0   \n",
       "5                                       0                                 0   \n",
       "6                                       0                                 0   \n",
       "\n",
       "user_id  ffff7cafdaf5196383cb2efca08fb6fe  \n",
       "book_id                                    \n",
       "1                                       0  \n",
       "2                                       0  \n",
       "3                                       0  \n",
       "5                                       0  \n",
       "6                                       0  \n",
       "\n",
       "[5 rows x 4969 columns]"
      ]
     },
     "execution_count": 69,
     "metadata": {},
     "output_type": "execute_result"
    }
   ],
   "source": [
    "X_collab = ratings_matrix.T\n",
    "X_collab.head()"
   ]
  },
  {
   "cell_type": "code",
   "execution_count": 70,
   "metadata": {},
   "outputs": [],
   "source": [
    "X1 = X_collab"
   ]
  },
  {
   "cell_type": "code",
   "execution_count": 71,
   "metadata": {},
   "outputs": [
    {
     "data": {
      "text/plain": [
       "(3096, 10)"
      ]
     },
     "execution_count": 71,
     "metadata": {},
     "output_type": "execute_result"
    }
   ],
   "source": [
    "#Decomposing the Matrix\n",
    "from sklearn.decomposition import TruncatedSVD\n",
    "SVD = TruncatedSVD(n_components=10)\n",
    "decomposed_matrix = SVD.fit_transform(X_collab)\n",
    "decomposed_matrix.shape"
   ]
  },
  {
   "cell_type": "code",
   "execution_count": 72,
   "metadata": {},
   "outputs": [
    {
     "data": {
      "text/plain": [
       "(3096, 3096)"
      ]
     },
     "execution_count": 72,
     "metadata": {},
     "output_type": "execute_result"
    }
   ],
   "source": [
    "#Correlation Matrix\n",
    "\n",
    "correlation_matrix = np.corrcoef(decomposed_matrix)\n",
    "correlation_matrix.shape"
   ]
  },
  {
   "cell_type": "code",
   "execution_count": 77,
   "metadata": {},
   "outputs": [
    {
     "data": {
      "text/plain": [
       "4989"
      ]
     },
     "execution_count": 77,
     "metadata": {},
     "output_type": "execute_result"
    }
   ],
   "source": [
    "X_collab.index[75]"
   ]
  },
  {
   "cell_type": "code",
   "execution_count": 78,
   "metadata": {},
   "outputs": [
    {
     "data": {
      "text/plain": [
       "75"
      ]
     },
     "execution_count": 78,
     "metadata": {},
     "output_type": "execute_result"
    }
   ],
   "source": [
    "i = 4989\n",
    "book_names = list(X_collab.index)\n",
    "Book_ID = book_names.index(i)\n",
    "Book_ID"
   ]
  },
  {
   "cell_type": "code",
   "execution_count": 79,
   "metadata": {},
   "outputs": [
    {
     "data": {
      "text/plain": [
       "(3096,)"
      ]
     },
     "execution_count": 79,
     "metadata": {},
     "output_type": "execute_result"
    }
   ],
   "source": [
    "correlation_Book_ID = correlation_matrix[Book_ID]\n",
    "correlation_Book_ID.shape"
   ]
  },
  {
   "cell_type": "code",
   "execution_count": 81,
   "metadata": {},
   "outputs": [
    {
     "data": {
      "text/plain": [
       "[365, 2175, 5364, 5526, 9375]"
      ]
     },
     "execution_count": 81,
     "metadata": {},
     "output_type": "execute_result"
    }
   ],
   "source": [
    "Recommend = list(X_collab.index[correlation_Book_ID > 0.65])\n",
    "\n",
    "# Removes the item already bought by the customer\n",
    "Recommend.remove(i) \n",
    "\n",
    "Recommend[0:5]"
   ]
  },
  {
   "cell_type": "markdown",
   "metadata": {},
   "source": [
    "## Model Buliding & Evalution"
   ]
  },
  {
   "cell_type": "code",
   "execution_count": 36,
   "metadata": {},
   "outputs": [],
   "source": [
    "from sklearn.linear_model import LogisticRegression, SGDClassifier\n",
    "from sklearn.naive_bayes import MultinomialNB\n",
    "from xgboost import XGBClassifier\n",
    "from sklearn.model_selection import train_test_split\n",
    "from sklearn.feature_extraction.text import TfidfVectorizer\n",
    "from sklearn.metrics import classification_report, confusion_matrix\n",
    "import pickle"
   ]
  },
  {
   "cell_type": "code",
   "execution_count": 84,
   "metadata": {},
   "outputs": [],
   "source": [
    "df = clean_books_rate[['review_text_tokens', 'rating']]"
   ]
  },
  {
   "cell_type": "code",
   "execution_count": 85,
   "metadata": {},
   "outputs": [],
   "source": [
    "X = df['review_text_tokens']\n",
    "y = df['rating']"
   ]
  },
  {
   "cell_type": "code",
   "execution_count": 86,
   "metadata": {},
   "outputs": [],
   "source": [
    "X_train, X_val, y_train, y_val = train_test_split(X, y, test_size=0.1, shuffle=True, random_state=404)"
   ]
  },
  {
   "cell_type": "code",
   "execution_count": 87,
   "metadata": {},
   "outputs": [
    {
     "name": "stdout",
     "output_type": "stream",
     "text": [
      "X Train set size:  (721261,)\n",
      "X Validation set size:  (80141,)\n"
     ]
    }
   ],
   "source": [
    "print(\"X Train set size: \", X_train.shape)\n",
    "print(\"X Validation set size: \", X_val.shape)"
   ]
  },
  {
   "cell_type": "code",
   "execution_count": 59,
   "metadata": {},
   "outputs": [
    {
     "name": "stdout",
     "output_type": "stream",
     "text": [
      "Y Train set size:  (721326,)\n",
      "Y Validation set size:  (80148,)\n"
     ]
    }
   ],
   "source": [
    "print(\"Y Train set size: \", y_train.shape)\n",
    "print(\"Y Validation set size: \", y_val.shape)"
   ]
  },
  {
   "cell_type": "code",
   "execution_count": 60,
   "metadata": {},
   "outputs": [],
   "source": [
    "tfidf_vectorizer = TfidfVectorizer(use_idf=True)\n",
    "\n",
    "X_train_vectors = tfidf_vectorizer.fit_transform(X_train) \n",
    "X_val_vectors = tfidf_vectorizer.transform(X_val)"
   ]
  },
  {
   "cell_type": "code",
   "execution_count": 61,
   "metadata": {},
   "outputs": [
    {
     "name": "stdout",
     "output_type": "stream",
     "text": [
      "(721326, 242007)\n",
      "(80148, 242007)\n"
     ]
    }
   ],
   "source": [
    "print(X_train_vectors.shape)\n",
    "print(X_val_vectors.shape)"
   ]
  },
  {
   "cell_type": "markdown",
   "metadata": {},
   "source": [
    "## Logistic Regression"
   ]
  },
  {
   "cell_type": "code",
   "execution_count": 62,
   "metadata": {},
   "outputs": [
    {
     "data": {
      "text/plain": [
       "LogisticRegression(C=10, class_weight=None, dual=False, fit_intercept=True,\n",
       "                   intercept_scaling=1, l1_ratio=None, max_iter=100,\n",
       "                   multi_class='auto', n_jobs=None, penalty='l2',\n",
       "                   random_state=None, solver='liblinear', tol=0.0001, verbose=0,\n",
       "                   warm_start=False)"
      ]
     },
     "execution_count": 62,
     "metadata": {},
     "output_type": "execute_result"
    }
   ],
   "source": [
    "lr_model=LogisticRegression(solver = 'liblinear', C=10, penalty = 'l2')\n",
    "lr_model.fit(X_train_vectors, y_train)"
   ]
  },
  {
   "cell_type": "code",
   "execution_count": 63,
   "metadata": {},
   "outputs": [
    {
     "name": "stdout",
     "output_type": "stream",
     "text": [
      "test accuracy 0.511690871887009\n",
      "------------------------------------------------------------\n",
      "              precision    recall  f1-score   support\n",
      "\n",
      "           0       0.53      0.27      0.36      2709\n",
      "           1       0.47      0.28      0.35      2467\n",
      "           2       0.42      0.25      0.31      6522\n",
      "           3       0.45      0.40      0.42     17151\n",
      "           4       0.48      0.57      0.52     27875\n",
      "           5       0.60      0.65      0.62     23424\n",
      "\n",
      "    accuracy                           0.51     80148\n",
      "   macro avg       0.49      0.40      0.43     80148\n",
      "weighted avg       0.51      0.51      0.50     80148\n",
      "\n",
      "------------------------------------------------------------\n",
      "Confusion Matrix: [[  731   137   189   390   683   579]\n",
      " [  128   697   695   449   315   183]\n",
      " [  134   395  1605  2617  1374   397]\n",
      " [  111   144   975  6844  7460  1617]\n",
      " [  142    79   291  3996 15911  7456]\n",
      " [  123    29    81   851  7117 15223]]\n"
     ]
    }
   ],
   "source": [
    "#Predict y value for test dataset\n",
    "y_predict = lr_model.predict(X_val_vectors)\n",
    "y_prob = lr_model.predict_proba(X_val_vectors)[:,1]\n",
    "\n",
    "print(\"test accuracy\", str(np.mean(y_val == y_predict)))\n",
    "print(\"-\"*60)\n",
    "print(classification_report(y_val,y_predict))\n",
    "print(\"-\"*60)\n",
    "print('Confusion Matrix:',confusion_matrix(y_val, y_predict))"
   ]
  },
  {
   "cell_type": "code",
   "execution_count": 64,
   "metadata": {},
   "outputs": [],
   "source": [
    "filename = 'lr_model.pickle'\n",
    "pickle.dump(lr_model, open(filename, 'wb'))"
   ]
  },
  {
   "cell_type": "markdown",
   "metadata": {},
   "source": [
    "##  Naive Bayes"
   ]
  },
  {
   "cell_type": "code",
   "execution_count": 65,
   "metadata": {},
   "outputs": [
    {
     "data": {
      "text/plain": [
       "MultinomialNB(alpha=1.0, class_prior=None, fit_prior=True)"
      ]
     },
     "execution_count": 65,
     "metadata": {},
     "output_type": "execute_result"
    }
   ],
   "source": [
    "multiNB_model = MultinomialNB()\n",
    "multiNB_model.fit(X_train_vectors, y_train)"
   ]
  },
  {
   "cell_type": "code",
   "execution_count": 66,
   "metadata": {},
   "outputs": [
    {
     "name": "stdout",
     "output_type": "stream",
     "text": [
      "test accuracy 0.4384264111393921\n",
      "------------------------------------------------------------\n",
      "              precision    recall  f1-score   support\n",
      "\n",
      "           0       0.73      0.01      0.02      2709\n",
      "           1       0.50      0.00      0.00      2467\n",
      "           2       0.24      0.00      0.00      6522\n",
      "           3       0.33      0.05      0.09     17151\n",
      "           4       0.39      0.85      0.53     27875\n",
      "           5       0.64      0.45      0.53     23424\n",
      "\n",
      "    accuracy                           0.44     80148\n",
      "   macro avg       0.47      0.23      0.20     80148\n",
      "weighted avg       0.45      0.44      0.36     80148\n",
      "\n",
      "------------------------------------------------------------\n",
      "Confusion Matrix: [[   30     0    10   182  1865   622]\n",
      " [    0     1    16   396  1866   188]\n",
      " [    2     1    10   918  5331   260]\n",
      " [    4     0     2   857 15474   814]\n",
      " [    3     0     2   228 23614  4028]\n",
      " [    2     0     1    32 12762 10627]]\n"
     ]
    }
   ],
   "source": [
    "#Predict y value for test dataset\n",
    "y_predict = multiNB_model.predict(X_val_vectors)\n",
    "y_prob = multiNB_model.predict_proba(X_val_vectors)[:,1]\n",
    "\n",
    "print(\"test accuracy\", str(np.mean(y_val == y_predict)))\n",
    "print(\"-\"*60)\n",
    "print(classification_report(y_val,y_predict))\n",
    "print(\"-\"*60)\n",
    "print('Confusion Matrix:',confusion_matrix(y_val, y_predict))"
   ]
  },
  {
   "cell_type": "code",
   "execution_count": 67,
   "metadata": {},
   "outputs": [],
   "source": [
    "filename = 'Naive_bayes_model.pickle'\n",
    "pickle.dump(multiNB_model, open(filename, 'wb'))\n"
   ]
  },
  {
   "cell_type": "markdown",
   "metadata": {},
   "source": [
    "##  XGBoost"
   ]
  },
  {
   "cell_type": "code",
   "execution_count": 68,
   "metadata": {},
   "outputs": [
    {
     "data": {
      "text/plain": [
       "XGBClassifier(base_score=0.5, booster='gbtree', colsample_bylevel=1,\n",
       "              colsample_bynode=1, colsample_bytree=1, gamma=0, gpu_id=-1,\n",
       "              importance_type='gain', interaction_constraints='',\n",
       "              learning_rate=0.300000012, max_delta_step=0, max_depth=6,\n",
       "              min_child_weight=1, missing=nan, monotone_constraints='()',\n",
       "              n_estimators=100, n_jobs=0, num_parallel_tree=1,\n",
       "              objective='multi:softprob', random_state=0, reg_alpha=0,\n",
       "              reg_lambda=1, scale_pos_weight=None, subsample=1,\n",
       "              tree_method='exact', validate_parameters=1, verbosity=None)"
      ]
     },
     "execution_count": 68,
     "metadata": {},
     "output_type": "execute_result"
    }
   ],
   "source": [
    "xgb_model = XGBClassifier()\n",
    "xgb_model.fit(X_train_vectors, y_train)"
   ]
  },
  {
   "cell_type": "code",
   "execution_count": 69,
   "metadata": {},
   "outputs": [
    {
     "name": "stdout",
     "output_type": "stream",
     "text": [
      "test accuracy 0.504928382492389\n",
      "------------------------------------------------------------\n",
      "              precision    recall  f1-score   support\n",
      "\n",
      "           0       0.58      0.20      0.30      2709\n",
      "           1       0.49      0.19      0.27      2467\n",
      "           2       0.44      0.18      0.25      6522\n",
      "           3       0.49      0.33      0.39     17151\n",
      "           4       0.46      0.66      0.54     27875\n",
      "           5       0.60      0.61      0.61     23424\n",
      "\n",
      "    accuracy                           0.50     80148\n",
      "   macro avg       0.51      0.36      0.39     80148\n",
      "weighted avg       0.51      0.50      0.49     80148\n",
      "\n",
      "------------------------------------------------------------\n",
      "Confusion Matrix: [[  543   101    81   205  1237   542]\n",
      " [  131   472   492   357   754   261]\n",
      " [   95   263  1172  2191  2286   515]\n",
      " [   61    84   705  5606  9154  1541]\n",
      " [   68    33   178  2714 18333  6549]\n",
      " [   41    16    44   484  8496 14343]]\n"
     ]
    }
   ],
   "source": [
    "#Predict y value for test dataset\n",
    "y_predict = xgb_model.predict(X_val_vectors)\n",
    "y_prob = xgb_model.predict_proba(X_val_vectors)[:,1] # Is not available for loss='hinge'\n",
    "\n",
    "print(\"test accuracy\", str(np.mean(y_val == y_predict)))\n",
    "print(\"-\"*60)\n",
    "print(classification_report(y_val,y_predict))\n",
    "print(\"-\"*60)\n",
    "print('Confusion Matrix:',confusion_matrix(y_val, y_predict))"
   ]
  },
  {
   "cell_type": "code",
   "execution_count": 70,
   "metadata": {},
   "outputs": [],
   "source": [
    "filename = 'xgboost_model.pickle'\n",
    "pickle.dump(xgb_model, open(filename, 'wb'))\n",
    "#loaded_model = pickle.load(open(filename, 'rb'))"
   ]
  }
 ],
 "metadata": {
  "kernelspec": {
   "display_name": "Python 3",
   "language": "python",
   "name": "python3"
  },
  "language_info": {
   "codemirror_mode": {
    "name": "ipython",
    "version": 3
   },
   "file_extension": ".py",
   "mimetype": "text/x-python",
   "name": "python",
   "nbconvert_exporter": "python",
   "pygments_lexer": "ipython3",
   "version": "3.7.6"
  }
 },
 "nbformat": 4,
 "nbformat_minor": 4
}
